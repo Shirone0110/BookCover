{
  "nbformat": 4,
  "nbformat_minor": 0,
  "metadata": {
    "colab": {
      "name": "Model Building Script",
      "provenance": [],
      "collapsed_sections": []
    },
    "kernelspec": {
      "name": "python3",
      "display_name": "Python 3"
    },
    "language_info": {
      "name": "python"
    }
  },
  "cells": [
    {
      "cell_type": "code",
      "metadata": {
        "id": "TItEo7n_pZYC"
      },
      "source": [
        "#importing libraries\n",
        "import pandas as pd\n",
        "import numpy as np\n",
        "from PIL import Image\n",
        "import requests\n",
        "import tensorflow as tf\n",
        "from tensorflow import keras\n",
        "from keras.models import Sequential\n",
        "from keras.layers import Dense, Flatten, Conv2D, MaxPooling2D, Dropout\n",
        "from tensorflow.keras import layers\n",
        "from keras.utils import to_categorical\n",
        "import numpy as np\n",
        "import matplotlib.pyplot as plt\n",
        "import os\n",
        "from sklearn.preprocessing import LabelEncoder\n",
        "from sklearn.model_selection import train_test_split\n",
        "import cv2\n",
        "from keras import callbacks"
      ],
      "execution_count": null,
      "outputs": []
    },
    {
      "cell_type": "markdown",
      "metadata": {
        "id": "Jn729KZzpbLX"
      },
      "source": [
        "# Model Building Script"
      ]
    },
    {
      "cell_type": "markdown",
      "metadata": {
        "id": "J5oy14dbu6GJ"
      },
      "source": [
        "### Import dataset"
      ]
    },
    {
      "cell_type": "code",
      "metadata": {
        "id": "7miPflDQj0g6",
        "colab": {
          "base_uri": "https://localhost:8080/"
        },
        "outputId": "9d10b16f-3fbd-46ae-d227-32f98273e59c"
      },
      "source": [
        "from google.colab import drive\n",
        "drive.mount('/content/drive')"
      ],
      "execution_count": null,
      "outputs": [
        {
          "output_type": "stream",
          "text": [
            "Mounted at /content/drive\n"
          ],
          "name": "stdout"
        }
      ]
    },
    {
      "cell_type": "code",
      "metadata": {
        "id": "RSla1q7ajtdC"
      },
      "source": [
        "#import dataset\n",
        "url = 'https://raw.githubusercontent.com/Shirone0110/BookCover/main/BookCover_2.csv'\n",
        "df = pd.read_csv(url)"
      ],
      "execution_count": null,
      "outputs": []
    },
    {
      "cell_type": "markdown",
      "metadata": {
        "id": "pXYm3k4apc43"
      },
      "source": [
        "Since we use Google Drive to store images, we need to change the image path to Google Drive"
      ]
    },
    {
      "cell_type": "code",
      "metadata": {
        "id": "hFjYlr5poW31"
      },
      "source": [
        "#change the path of image to google drive\n",
        "for i in range(len(df.index)):\n",
        "  path = '/content/drive/MyDrive/BookCovers/image_' + str(i) + '.jpg'\n",
        "  df['image'][i] = path"
      ],
      "execution_count": null,
      "outputs": []
    },
    {
      "cell_type": "markdown",
      "metadata": {
        "id": "NnFDFeInu73E"
      },
      "source": [
        "### Preprocessing"
      ]
    },
    {
      "cell_type": "markdown",
      "metadata": {
        "id": "lZFc7ltMplM9"
      },
      "source": [
        "We chose 3 categories that don't have a lot of overlapping books."
      ]
    },
    {
      "cell_type": "code",
      "metadata": {
        "colab": {
          "base_uri": "https://localhost:8080/",
          "height": 206
        },
        "id": "gzm7hb5vkHzt",
        "outputId": "f14d71ab-9aea-4fa6-9eec-343e873c9913"
      },
      "source": [
        "#select categories\n",
        "df = df[(df['category'] == 'Crime-Thriller') | (df['category'] == 'Food-Drink') |\n",
        "        (df['category'] == 'Graphic-Novels-Anime-Manga')]\n",
        "df.head()"
      ],
      "execution_count": null,
      "outputs": [
        {
          "output_type": "execute_result",
          "data": {
            "text/html": [
              "<div>\n",
              "<style scoped>\n",
              "    .dataframe tbody tr th:only-of-type {\n",
              "        vertical-align: middle;\n",
              "    }\n",
              "\n",
              "    .dataframe tbody tr th {\n",
              "        vertical-align: top;\n",
              "    }\n",
              "\n",
              "    .dataframe thead th {\n",
              "        text-align: right;\n",
              "    }\n",
              "</style>\n",
              "<table border=\"1\" class=\"dataframe\">\n",
              "  <thead>\n",
              "    <tr style=\"text-align: right;\">\n",
              "      <th></th>\n",
              "      <th>image</th>\n",
              "      <th>name</th>\n",
              "      <th>author</th>\n",
              "      <th>category</th>\n",
              "    </tr>\n",
              "  </thead>\n",
              "  <tbody>\n",
              "    <tr>\n",
              "      <th>7900</th>\n",
              "      <td>/content/drive/MyDrive/BookCovers/image_7900.jpg</td>\n",
              "      <td>1984</td>\n",
              "      <td>George Orwell</td>\n",
              "      <td>Crime-Thriller</td>\n",
              "    </tr>\n",
              "    <tr>\n",
              "      <th>7901</th>\n",
              "      <td>/content/drive/MyDrive/BookCovers/image_7901.jpg</td>\n",
              "      <td>Man's Search For Meaning</td>\n",
              "      <td>Viktor E. Frankl</td>\n",
              "      <td>Crime-Thriller</td>\n",
              "    </tr>\n",
              "    <tr>\n",
              "      <th>7902</th>\n",
              "      <td>/content/drive/MyDrive/BookCovers/image_7902.jpg</td>\n",
              "      <td>Animal Farm</td>\n",
              "      <td>George Orwell</td>\n",
              "      <td>Crime-Thriller</td>\n",
              "    </tr>\n",
              "    <tr>\n",
              "      <th>7903</th>\n",
              "      <td>/content/drive/MyDrive/BookCovers/image_7903.jpg</td>\n",
              "      <td>The Husband's Secret</td>\n",
              "      <td>Liane Moriarty</td>\n",
              "      <td>Crime-Thriller</td>\n",
              "    </tr>\n",
              "    <tr>\n",
              "      <th>7904</th>\n",
              "      <td>/content/drive/MyDrive/BookCovers/image_7904.jpg</td>\n",
              "      <td>Gone Girl</td>\n",
              "      <td>Gillian Flynn</td>\n",
              "      <td>Crime-Thriller</td>\n",
              "    </tr>\n",
              "  </tbody>\n",
              "</table>\n",
              "</div>"
            ],
            "text/plain": [
              "                                                 image  ...        category\n",
              "7900  /content/drive/MyDrive/BookCovers/image_7900.jpg  ...  Crime-Thriller\n",
              "7901  /content/drive/MyDrive/BookCovers/image_7901.jpg  ...  Crime-Thriller\n",
              "7902  /content/drive/MyDrive/BookCovers/image_7902.jpg  ...  Crime-Thriller\n",
              "7903  /content/drive/MyDrive/BookCovers/image_7903.jpg  ...  Crime-Thriller\n",
              "7904  /content/drive/MyDrive/BookCovers/image_7904.jpg  ...  Crime-Thriller\n",
              "\n",
              "[5 rows x 4 columns]"
            ]
          },
          "metadata": {
            "tags": []
          },
          "execution_count": 5
        }
      ]
    },
    {
      "cell_type": "markdown",
      "metadata": {
        "id": "IWwaoZ27prld"
      },
      "source": [
        "Since there are overlapping books, we drop duplicated book names. We shuffle the dataset to make sure that each category doesn't come in a bunch together."
      ]
    },
    {
      "cell_type": "code",
      "metadata": {
        "id": "ZRkb-jNzkrbW"
      },
      "source": [
        "#drop duplicated entries and shuffle the data\n",
        "df = df.drop_duplicates(subset = 'name', keep = 'last')\n",
        "df = df.sample(frac = 1)"
      ],
      "execution_count": null,
      "outputs": []
    },
    {
      "cell_type": "markdown",
      "metadata": {
        "id": "M6ayoqYHp6WW"
      },
      "source": [
        "Then we transform images into numpy array with normalized range [0, 1]"
      ]
    },
    {
      "cell_type": "code",
      "metadata": {
        "id": "i5SNxSqMqRzm"
      },
      "source": [
        "#extract the image numpy array\n",
        "X = [] \n",
        "for url in df['image']:\n",
        "  im = cv2.imread(url) #read image\n",
        "  arr = np.asarray(im) #turn image into numpy array\n",
        "  arr = arr / 255      #transform the value range into [0, 1]\n",
        "  X.append(arr)\n",
        "\n",
        "X = np.array(X)"
      ],
      "execution_count": null,
      "outputs": []
    },
    {
      "cell_type": "markdown",
      "metadata": {
        "id": "xmZAxehiqAS0"
      },
      "source": [
        "The categories are one-hot encoded."
      ]
    },
    {
      "cell_type": "code",
      "metadata": {
        "id": "Z8tBAXhBx_TE",
        "colab": {
          "base_uri": "https://localhost:8080/"
        },
        "outputId": "0ebadb1b-e8aa-4736-9e74-5c6937d4666d"
      },
      "source": [
        "#label encoder to convert string labels into number IDs for multi-class classification\n",
        "encoder = LabelEncoder()\n",
        "numbered_labels = encoder.fit_transform(df[\"category\"])\n",
        "semantic_labels = list(encoder.classes_)\n",
        "print(\"Y: Semantic Labels\", semantic_labels)\n",
        "Y = to_categorical(numbered_labels)"
      ],
      "execution_count": null,
      "outputs": [
        {
          "output_type": "stream",
          "text": [
            "Y: Semantic Labels ['Crime-Thriller', 'Food-Drink', 'Graphic-Novels-Anime-Manga']\n"
          ],
          "name": "stdout"
        }
      ]
    },
    {
      "cell_type": "markdown",
      "metadata": {
        "id": "MUttQbk1qEGm"
      },
      "source": [
        "We split the dataset into 3 parts: train set, validation set, and test set."
      ]
    },
    {
      "cell_type": "code",
      "metadata": {
        "id": "zdSteRHlvHyH"
      },
      "source": [
        "#train test split\n",
        "x_train, x_test, y_train, y_test = train_test_split(X, Y)"
      ],
      "execution_count": null,
      "outputs": []
    },
    {
      "cell_type": "code",
      "metadata": {
        "id": "uBBIW9VhqBZB"
      },
      "source": [
        "#create validation set\n",
        "validation_ratio = 0.10\n",
        "validation_record_num = int(np.round(len(x_train) * validation_ratio))\n",
        "x_val = x_train[:validation_record_num]\n",
        "y_val = y_train[:validation_record_num]\n",
        "x_train = x_train[validation_record_num:]\n",
        "y_train = y_train[validation_record_num:]"
      ],
      "execution_count": null,
      "outputs": []
    },
    {
      "cell_type": "markdown",
      "metadata": {
        "id": "_x9a7pt6qJCL"
      },
      "source": [
        "Then we get the image shape for the neural network."
      ]
    },
    {
      "cell_type": "code",
      "metadata": {
        "id": "pPPdELaiyJst",
        "colab": {
          "base_uri": "https://localhost:8080/"
        },
        "outputId": "61797846-39d5-4a7c-8a0e-38511c4acf26"
      },
      "source": [
        "# Get the image shape\n",
        "image_shape = x_train.shape[1:]\n",
        "image_shape "
      ],
      "execution_count": null,
      "outputs": [
        {
          "output_type": "execute_result",
          "data": {
            "text/plain": [
              "(200, 128, 3)"
            ]
          },
          "metadata": {
            "tags": []
          },
          "execution_count": 12
        }
      ]
    },
    {
      "cell_type": "markdown",
      "metadata": {
        "id": "coN1GQ8JyRuH"
      },
      "source": [
        "## Configure the network architecture"
      ]
    },
    {
      "cell_type": "markdown",
      "metadata": {
        "id": "B3TJ68xdqW_k"
      },
      "source": [
        "We create a network according to the guide linked in References."
      ]
    },
    {
      "cell_type": "code",
      "metadata": {
        "id": "9cV5827iyW59"
      },
      "source": [
        "# Create a function for each model. The configure function should return a compiled model\n",
        "def configure_model(image_shape) -> Sequential:\n",
        "  # Create the models architecture\n",
        "  model = Sequential()\n",
        "  # Add the first convolution layer\n",
        "  model.add(Conv2D(30, kernel_size = (5, 5), activation=\"relu\", input_shape=image_shape )) #Input 32 * 32 image with 3 channels\n",
        "\n",
        "  # Add a pooling layer @\n",
        "  # Pooling layer of 2 * 2 to extract the max value from a feature map\n",
        "  model.add(MaxPooling2D(pool_size=(2, 2))) \n",
        "\n",
        "  # Add another convolution layer\n",
        "  model.add( Conv2D(32, kernel_size = (5, 5), activation=\"relu\") )\n",
        "\n",
        "  # Add another pooling layer\n",
        "  model.add(MaxPooling2D(pool_size=(2, 2))) \n",
        "\n",
        "  # Add a flattening layer to reduce the dementionality of the input array\n",
        "  model.add(Flatten())\n",
        "\n",
        "  # Add a layer with 1000 neurons\n",
        "  model.add(Dense(1000, activation=\"relu\"))\n",
        "\n",
        "  # Dropout layer with dropout rate 50% @\n",
        "  model.add(Dropout(0.5)) \n",
        "\n",
        "  # Add a layer with 500 neurons\n",
        "  model.add(Dense(500, activation=\"relu\"))\n",
        "\n",
        "  #model.add(Dense(128, activation = 'relu'))\n",
        "\n",
        "  # Dropout layer @\n",
        "  model.add(Dropout(0.5)) \n",
        "\n",
        "  # Add a layer with 250 neurons\n",
        "  model.add(Dense(250, activation=\"relu\"))\n",
        "\n",
        "  #Add a layer with 64 neurons\n",
        "  #model.add(Dense(64, activation = \"relu\"))\n",
        "\n",
        "  # Add a layer with number of outputs neurons\n",
        "  model.add(Dense(3, activation=\"softmax\")) #?\n",
        "\n",
        "  # Compile the model \n",
        "  # Try optimizer = rmsprop instead of adam\n",
        "  model.compile(loss = \"categorical_crossentropy\", optimizer=\"rmsprop\",\n",
        "                metrics = [\"accuracy\"])\n",
        "  return model"
      ],
      "execution_count": null,
      "outputs": []
    },
    {
      "cell_type": "code",
      "metadata": {
        "id": "B3cQF36YAyD5",
        "colab": {
          "base_uri": "https://localhost:8080/"
        },
        "outputId": "f605b3e9-fe90-428a-a8e8-8ebc9fd23807"
      },
      "source": [
        "model = configure_model(image_shape)\n",
        "# Check the network architecture\n",
        "print(\"---------- Model Structure ----------\")\n",
        "model.summary()"
      ],
      "execution_count": null,
      "outputs": [
        {
          "output_type": "stream",
          "text": [
            "---------- Model Structure ----------\n",
            "Model: \"sequential_1\"\n",
            "_________________________________________________________________\n",
            "Layer (type)                 Output Shape              Param #   \n",
            "=================================================================\n",
            "conv2d_2 (Conv2D)            (None, 196, 124, 30)      2280      \n",
            "_________________________________________________________________\n",
            "max_pooling2d_2 (MaxPooling2 (None, 98, 62, 30)        0         \n",
            "_________________________________________________________________\n",
            "conv2d_3 (Conv2D)            (None, 94, 58, 32)        24032     \n",
            "_________________________________________________________________\n",
            "max_pooling2d_3 (MaxPooling2 (None, 47, 29, 32)        0         \n",
            "_________________________________________________________________\n",
            "flatten_1 (Flatten)          (None, 43616)             0         \n",
            "_________________________________________________________________\n",
            "dense_4 (Dense)              (None, 1000)              43617000  \n",
            "_________________________________________________________________\n",
            "dropout_2 (Dropout)          (None, 1000)              0         \n",
            "_________________________________________________________________\n",
            "dense_5 (Dense)              (None, 500)               500500    \n",
            "_________________________________________________________________\n",
            "dropout_3 (Dropout)          (None, 500)               0         \n",
            "_________________________________________________________________\n",
            "dense_6 (Dense)              (None, 250)               125250    \n",
            "_________________________________________________________________\n",
            "dense_7 (Dense)              (None, 3)                 753       \n",
            "=================================================================\n",
            "Total params: 44,269,815\n",
            "Trainable params: 44,269,815\n",
            "Non-trainable params: 0\n",
            "_________________________________________________________________\n"
          ],
          "name": "stdout"
        }
      ]
    },
    {
      "cell_type": "markdown",
      "metadata": {
        "id": "FME4JVWHql8G"
      },
      "source": [
        "We use earlystopping to stop the model from overfitting and fit the model."
      ]
    },
    {
      "cell_type": "code",
      "metadata": {
        "colab": {
          "base_uri": "https://localhost:8080/"
        },
        "id": "UwrMepDDv5IT",
        "outputId": "dd88dc78-553a-4bb9-cb4e-050c519dba9d"
      },
      "source": [
        "# Train model with earlystopping callback\n",
        "# patience = 1/5 * epochs\n",
        "print(\"---------- Training ----------\")\n",
        "earlystopping = callbacks.EarlyStopping(monitor = 'val_loss', mode = 'min', \n",
        "                                        patience = 2, restore_best_weights = True)\n",
        "history = model.fit(x_train, y_train, batch_size = 128, epochs = 10, \n",
        "                    validation_data = (x_val, y_val), callbacks = [earlystopping])"
      ],
      "execution_count": null,
      "outputs": [
        {
          "output_type": "stream",
          "text": [
            "---------- Training ----------\n",
            "Epoch 1/10\n",
            "15/15 [==============================] - 104s 7s/step - loss: 4.8766 - accuracy: 0.3682 - val_loss: 1.0673 - val_accuracy: 0.4375\n",
            "Epoch 2/10\n",
            "15/15 [==============================] - 102s 7s/step - loss: 1.1064 - accuracy: 0.4541 - val_loss: 1.0581 - val_accuracy: 0.5144\n",
            "Epoch 3/10\n",
            "15/15 [==============================] - 106s 7s/step - loss: 1.0558 - accuracy: 0.5052 - val_loss: 1.0778 - val_accuracy: 0.3894\n",
            "Epoch 4/10\n",
            "15/15 [==============================] - 102s 7s/step - loss: 1.0334 - accuracy: 0.4628 - val_loss: 0.9690 - val_accuracy: 0.5337\n",
            "Epoch 5/10\n",
            "15/15 [==============================] - 101s 7s/step - loss: 1.0057 - accuracy: 0.5395 - val_loss: 0.9678 - val_accuracy: 0.5817\n",
            "Epoch 6/10\n",
            "15/15 [==============================] - 103s 7s/step - loss: 1.3262 - accuracy: 0.5641 - val_loss: 1.0146 - val_accuracy: 0.4183\n",
            "Epoch 7/10\n",
            "15/15 [==============================] - 102s 7s/step - loss: 0.8288 - accuracy: 0.6240 - val_loss: 0.9584 - val_accuracy: 0.5721\n",
            "Epoch 8/10\n",
            "15/15 [==============================] - 102s 7s/step - loss: 0.8666 - accuracy: 0.7207 - val_loss: 1.1660 - val_accuracy: 0.5000\n",
            "Epoch 9/10\n",
            "15/15 [==============================] - 110s 7s/step - loss: 0.6496 - accuracy: 0.7352 - val_loss: 1.0282 - val_accuracy: 0.5288\n"
          ],
          "name": "stdout"
        }
      ]
    },
    {
      "cell_type": "markdown",
      "metadata": {
        "id": "gtrzqVhXryJ3"
      },
      "source": [
        "Then we evalute the model on test set."
      ]
    },
    {
      "cell_type": "code",
      "metadata": {
        "colab": {
          "base_uri": "https://localhost:8080/"
        },
        "id": "s6XIMQYrWUhN",
        "outputId": "20a9a09a-5e3a-4d92-a5b6-dd17b35952d3"
      },
      "source": [
        "# evaluate on test set\n",
        "model.evaluate(x_test, y_test)"
      ],
      "execution_count": null,
      "outputs": [
        {
          "output_type": "stream",
          "text": [
            "22/22 [==============================] - 10s 438ms/step - loss: 0.9560 - accuracy: 0.5403\n"
          ],
          "name": "stdout"
        },
        {
          "output_type": "execute_result",
          "data": {
            "text/plain": [
              "[0.9559932351112366, 0.5403458476066589]"
            ]
          },
          "metadata": {
            "tags": []
          },
          "execution_count": 20
        }
      ]
    },
    {
      "cell_type": "markdown",
      "metadata": {
        "id": "zedzh4vfr0N0"
      },
      "source": [
        "To get probability for each category, we use <code>model.predict</code>. However, we didn't have enough time to make use of this."
      ]
    },
    {
      "cell_type": "code",
      "metadata": {
        "id": "FnoT-XERgPtq"
      },
      "source": [
        "#predict test set\n",
        "probs = model.predict(x_test)"
      ],
      "execution_count": null,
      "outputs": []
    },
    {
      "cell_type": "markdown",
      "metadata": {
        "id": "2-biX0o4r8jX"
      },
      "source": [
        "Observe the model's accuracy."
      ]
    },
    {
      "cell_type": "code",
      "metadata": {
        "colab": {
          "base_uri": "https://localhost:8080/",
          "height": 295
        },
        "id": "-ipU7xUVNBUy",
        "outputId": "8243ebf7-5689-4cb6-a140-1a632e2b960d"
      },
      "source": [
        "plt.plot(history.history[\"accuracy\"])\n",
        "plt.plot(history.history[\"val_accuracy\"])\n",
        "plt.title(\"Model Accuracy\")\n",
        "plt.ylabel(\"Accuracy\")\n",
        "plt.xlabel(\"Epochs\")\n",
        "plt.legend([\"Train\", \"Val\"], loc=\"upper left\")\n",
        "plt.show()"
      ],
      "execution_count": null,
      "outputs": [
        {
          "output_type": "display_data",
          "data": {
            "image/png": "[encoded data removed]",
            "text/plain": [
              "<Figure size 432x288 with 1 Axes>"
            ]
          },
          "metadata": {
            "tags": [],
            "needs_background": "light"
          }
        }
      ]
    },
    {
      "cell_type": "markdown",
      "metadata": {
        "id": "b3mTXtKFr-uc"
      },
      "source": [
        "And see if the model finished training by observing model's loss."
      ]
    },
    {
      "cell_type": "code",
      "metadata": {
        "id": "uOZyNDfDnBNV",
        "colab": {
          "base_uri": "https://localhost:8080/",
          "height": 295
        },
        "outputId": "5e52e5dd-6b45-46a2-8976-a4af55caa75a"
      },
      "source": [
        "plt.plot(history.history[\"loss\"])\n",
        "plt.plot(history.history[\"val_loss\"])\n",
        "plt.title(\"Model Loss\")\n",
        "plt.ylabel(\"Loss\")\n",
        "plt.xlabel(\"Epochs\")\n",
        "plt.legend([\"Train\", \"Val\"], loc=\"upper left\")\n",
        "plt.show()"
      ],
      "execution_count": null,
      "outputs": [
        {
          "output_type": "display_data",
          "data": {
            "image/png": "[encoded data removed]",
            "text/plain": [
              "<Figure size 432x288 with 1 Axes>"
            ]
          },
          "metadata": {
            "tags": [],
            "needs_background": "light"
          }
        }
      ]
    },
    {
      "cell_type": "markdown",
      "metadata": {
        "id": "ogdaE-QapTKi"
      },
      "source": [
        "# References\n",
        "\n",
        "https://blog.floydhub.com/guide-to-hyperparameters-search-for-deep-learning-models/  \n",
        "https://towardsdatascience.com/image-classification-python-keras-tutorial-kaggle-challenge-45a6332a58b8  \n",
        "https://towardsdatascience.com/convolutional-neural-networks-for-beginners-using-keras-and-tensorflow-2-c578f7b3bf25  \n",
        "https://www.geeksforgeeks.org/choose-optimal-number-of-epochs-to-train-a-neural-network-in-keras/  \n",
        "https://www.youtube.com/watch?v=iGWbqhdjf2s  \n",
        "3Brown1Blue tutorial on Moodle"
      ]
    }
  ]
}