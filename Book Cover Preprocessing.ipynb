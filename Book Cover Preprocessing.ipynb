{
  "nbformat": 4,
  "nbformat_minor": 0,
  "metadata": {
    "colab": {
      "name": "Book_Cover_Preprocessing.ipynb",
      "provenance": [],
      "collapsed_sections": []
    },
    "kernelspec": {
      "name": "python3",
      "display_name": "Python 3"
    },
    "language_info": {
      "name": "python"
    }
  },
  "cells": [
    {
      "cell_type": "code",
      "metadata": {
        "id": "5CZ7kJL4zuul"
      },
      "source": [
        "import pandas as pd\n",
        "import numpy as np\n",
        "from PIL import Image\n",
        "import requests"
      ],
      "execution_count": null,
      "outputs": []
    },
    {
      "cell_type": "markdown",
      "metadata": {
        "id": "UivoqsEol4WC"
      },
      "source": [
        "# Explore dataset"
      ]
    },
    {
      "cell_type": "markdown",
      "metadata": {
        "id": "VvAhgS8twEjz"
      },
      "source": [
        "First we need to know what categories are there in the dataset."
      ]
    },
    {
      "cell_type": "code",
      "metadata": {
        "id": "uKkz66DUiyAO"
      },
      "source": [
        "df['category'].unique()"
      ],
      "execution_count": null,
      "outputs": []
    },
    {
      "cell_type": "markdown",
      "metadata": {
        "id": "X-ZddepPk0ii"
      },
      "source": [
        "Categories: 'Medical', 'Science-Geography', 'Art-Photography', 'Biography',\n",
        "       'Business-Finance-Law', 'Childrens-Books', 'Computing',\n",
        "       'Crafts-Hobbies', 'Crime-Thriller', 'Dictionaries-Languages',\n",
        "       'Entertainment', 'Food-Drink', 'Graphic-Novels-Anime-Manga',\n",
        "       'Health', 'History-Archaeology', 'Home-Garden', 'Humour',\n",
        "       'Mind-Body-Spirit', 'Natural-History', 'Personal-Development',\n",
        "       'Poetry-Drama', 'Reference', 'Religion', 'Romance',\n",
        "       'Science-Fiction-Fantasy-Horror', 'Society-Social-Sciences',\n",
        "       'Sport', 'Stationery', 'Teaching-Resources-Education',\n",
        "       'Technology-Engineering', 'Teen-Young-Adult', 'Transport',\n",
        "       'Travel-Holiday-Guides'"
      ]
    },
    {
      "cell_type": "markdown",
      "metadata": {
        "id": "1Yj6o8JUwHcO"
      },
      "source": [
        "We wanted to find the smallest book cover size, so we can scale everything accordingly."
      ]
    },
    {
      "cell_type": "code",
      "metadata": {
        "id": "s2zsfmKNjzKs"
      },
      "source": [
        "#finding min image size\n",
        "min_h = 500\n",
        "min_w = 500\n",
        "for i in range(len(df.index)):\n",
        "  url = df['image'][i]\n",
        "  im = Image.open(requests.get(url, stream = True).raw)\n",
        "  a = np.asarray(im)\n",
        "  min_h = min(min_h, a.shape[0])\n",
        "  min_w = min(min_w, a.shape[1])\n",
        "print(min_h)\n",
        "print(min_w)"
      ],
      "execution_count": null,
      "outputs": []
    },
    {
      "cell_type": "markdown",
      "metadata": {
        "id": "ln8zUu_TwOeX"
      },
      "source": [
        "Dropping irrelevant features so we can view the dataframe easier."
      ]
    },
    {
      "cell_type": "code",
      "metadata": {
        "id": "Stwc_tHvonh3"
      },
      "source": [
        "#drop irrelevant columns\n",
        "df = df.drop(columns = ['format', 'book_depository_stars', 'price', 'currency', 'old_price', 'isbn', 'img_paths'])"
      ],
      "execution_count": null,
      "outputs": []
    },
    {
      "cell_type": "markdown",
      "metadata": {
        "id": "rAw2BhpGwTUO"
      },
      "source": [
        "Then we check to see if a book has several categories."
      ]
    },
    {
      "cell_type": "code",
      "metadata": {
        "colab": {
          "base_uri": "https://localhost:8080/",
          "height": 419
        },
        "id": "RnGKdJUGrbyo",
        "outputId": "d0116d62-19ca-4bff-edd8-e7770d5963e0"
      },
      "source": [
        "#checking if a book has several categories\n",
        "df2 = df.groupby('name')['category'].apply(list).reset_index()\n",
        "df2"
      ],
      "execution_count": null,
      "outputs": [
        {
          "output_type": "execute_result",
          "data": {
            "text/html": [
              "<div>\n",
              "<style scoped>\n",
              "    .dataframe tbody tr th:only-of-type {\n",
              "        vertical-align: middle;\n",
              "    }\n",
              "\n",
              "    .dataframe tbody tr th {\n",
              "        vertical-align: top;\n",
              "    }\n",
              "\n",
              "    .dataframe thead th {\n",
              "        text-align: right;\n",
              "    }\n",
              "</style>\n",
              "<table border=\"1\" class=\"dataframe\">\n",
              "  <thead>\n",
              "    <tr style=\"text-align: right;\">\n",
              "      <th></th>\n",
              "      <th>name</th>\n",
              "      <th>category</th>\n",
              "    </tr>\n",
              "  </thead>\n",
              "  <tbody>\n",
              "    <tr>\n",
              "      <th>0</th>\n",
              "      <td>\"A Doll's House\"</td>\n",
              "      <td>[Poetry-Drama]</td>\n",
              "    </tr>\n",
              "    <tr>\n",
              "      <th>1</th>\n",
              "      <td>\"A Raisin in the Sun\"</td>\n",
              "      <td>[Poetry-Drama]</td>\n",
              "    </tr>\n",
              "    <tr>\n",
              "      <th>2</th>\n",
              "      <td>\"King Lear\"</td>\n",
              "      <td>[Poetry-Drama]</td>\n",
              "    </tr>\n",
              "    <tr>\n",
              "      <th>3</th>\n",
              "      <td>\"Life of Galileo\"</td>\n",
              "      <td>[Teaching-Resources-Education]</td>\n",
              "    </tr>\n",
              "    <tr>\n",
              "      <th>4</th>\n",
              "      <td>\"Soul Surfer: A True Story of Faith, Family, a...</td>\n",
              "      <td>[Biography, Sport]</td>\n",
              "    </tr>\n",
              "    <tr>\n",
              "      <th>...</th>\n",
              "      <td>...</td>\n",
              "      <td>...</td>\n",
              "    </tr>\n",
              "    <tr>\n",
              "      <th>20585</th>\n",
              "      <td>the princess saves herself in this one</td>\n",
              "      <td>[Childrens-Books, Poetry-Drama]</td>\n",
              "    </tr>\n",
              "    <tr>\n",
              "      <th>20586</th>\n",
              "      <td>the witch doesn't burn in this one</td>\n",
              "      <td>[Poetry-Drama, Society-Social-Sciences]</td>\n",
              "    </tr>\n",
              "    <tr>\n",
              "      <th>20587</th>\n",
              "      <td>von Martius. The Book of Palms</td>\n",
              "      <td>[Home-Garden, Natural-History]</td>\n",
              "    </tr>\n",
              "    <tr>\n",
              "      <th>20588</th>\n",
              "      <td>wd~50</td>\n",
              "      <td>[Technology-Engineering]</td>\n",
              "    </tr>\n",
              "    <tr>\n",
              "      <th>20589</th>\n",
              "      <td>your name., Vol. 1</td>\n",
              "      <td>[Graphic-Novels-Anime-Manga]</td>\n",
              "    </tr>\n",
              "  </tbody>\n",
              "</table>\n",
              "<p>20590 rows × 2 columns</p>\n",
              "</div>"
            ],
            "text/plain": [
              "                                                    name                                 category\n",
              "0                                       \"A Doll's House\"                           [Poetry-Drama]\n",
              "1                                  \"A Raisin in the Sun\"                           [Poetry-Drama]\n",
              "2                                            \"King Lear\"                           [Poetry-Drama]\n",
              "3                                      \"Life of Galileo\"           [Teaching-Resources-Education]\n",
              "4      \"Soul Surfer: A True Story of Faith, Family, a...                       [Biography, Sport]\n",
              "...                                                  ...                                      ...\n",
              "20585             the princess saves herself in this one          [Childrens-Books, Poetry-Drama]\n",
              "20586                 the witch doesn't burn in this one  [Poetry-Drama, Society-Social-Sciences]\n",
              "20587                     von Martius. The Book of Palms           [Home-Garden, Natural-History]\n",
              "20588                                              wd~50                 [Technology-Engineering]\n",
              "20589                                 your name., Vol. 1             [Graphic-Novels-Anime-Manga]\n",
              "\n",
              "[20590 rows x 2 columns]"
            ]
          },
          "metadata": {
            "tags": []
          },
          "execution_count": 8
        }
      ]
    },
    {
      "cell_type": "markdown",
      "metadata": {
        "id": "HXRBj8jUk94K"
      },
      "source": [
        "There are 32581 entries but only 20590 unique books."
      ]
    },
    {
      "cell_type": "markdown",
      "metadata": {
        "id": "WXhHlH6iq8_e"
      },
      "source": [
        "# Cleaning data"
      ]
    },
    {
      "cell_type": "code",
      "metadata": {
        "id": "MPounOhGrC7G"
      },
      "source": [
        "#import and drop irrelevant features\n",
        "url = 'https://raw.githubusercontent.com/Shirone0110/BookCover/main/main_dataset.csv'\n",
        "df = pd.read_csv(url)\n",
        "df = df.drop(columns = ['format', 'book_depository_stars', 'price', 'currency', 'old_price', 'isbn', 'img_paths'])\n",
        "newsize = (128, 200) #width, height"
      ],
      "execution_count": null,
      "outputs": []
    },
    {
      "cell_type": "code",
      "metadata": {
        "colab": {
          "base_uri": "https://localhost:8080/"
        },
        "id": "N_B1lfPLs4Wg",
        "outputId": "3529b6c1-34bd-4711-da64-703720b190b7"
      },
      "source": [
        "from google.colab import drive\n",
        "drive.mount('/content/drive')"
      ],
      "execution_count": null,
      "outputs": [
        {
          "output_type": "stream",
          "text": [
            "Drive already mounted at /content/drive; to attempt to forcibly remount, call drive.mount(\"/content/drive\", force_remount=True).\n"
          ],
          "name": "stdout"
        }
      ]
    },
    {
      "cell_type": "markdown",
      "metadata": {
        "id": "8se5LMOtwbxl"
      },
      "source": [
        "Now we resize all images to 200 x 128 pixels and 3 color channels and save them all into a Google Drive folder with the same name format."
      ]
    },
    {
      "cell_type": "code",
      "metadata": {
        "id": "35xIuxeZrHKB"
      },
      "source": [
        "#resize images and save to google drive\n",
        "im_array = []\n",
        "flat = (128 * 200 * 3)\n",
        "for i in range(len(df.index)):\n",
        "  url = df['image'][i]\n",
        "  im = Image.open(requests.get(url, stream = True).raw) #open image\n",
        "  im1 = im.resize(newsize).convert('RGB')               #resize image\n",
        "  arr = np.array(im1).reshape(flat)                     #turn image into array\n",
        "  im_array.append(arr)\n",
        "  save_path = '/content/drive/My Drive/BookCovers/image_' + str(i) + '.jpg'\n",
        "  im1.save(save_path, 'JPEG')                           #save image to drive"
      ],
      "execution_count": null,
      "outputs": []
    },
    {
      "cell_type": "code",
      "metadata": {
        "id": "3HCnlfcfUrxs"
      },
      "source": [
        "df['image_arr'] = im_array"
      ],
      "execution_count": null,
      "outputs": []
    },
    {
      "cell_type": "code",
      "metadata": {
        "id": "BxNG4HexUuMf"
      },
      "source": [
        "#create new dataset\n",
        "df.to_csv('BookCover_New.csv', index = False)"
      ],
      "execution_count": null,
      "outputs": []
    }
  ]
}