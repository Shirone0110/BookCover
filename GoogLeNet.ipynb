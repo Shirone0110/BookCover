{
  "nbformat": 4,
  "nbformat_minor": 0,
  "metadata": {
    "colab": {
      "name": "GoogLeNet.ipynb",
      "provenance": []
    },
    "kernelspec": {
      "name": "python3",
      "display_name": "Python 3"
    },
    "language_info": {
      "name": "python"
    }
  },
  "cells": [
    {
      "cell_type": "code",
      "metadata": {
        "id": "Fv3V0sOEjLWZ"
      },
      "source": [
        "#import libraries\n",
        "import keras\n",
        "from tensorflow.keras.layers import Layer\n",
        "import tensorflow as tf\n",
        "from keras.models import Model\n",
        "from keras.layers import Conv2D, MaxPool2D, Dropout, Dense, Input, concatenate,\\\n",
        "    GlobalAveragePooling2D, AveragePooling2D, Flatten\n",
        "import cv2\n",
        "import numpy as np\n",
        "from PIL import Image\n",
        "import requests\n",
        "import pandas as pd\n",
        "from sklearn.preprocessing import LabelEncoder\n",
        "from sklearn.model_selection import train_test_split\n",
        "import math\n",
        "from keras.optimizers import SGD\n",
        "from keras.callbacks import LearningRateScheduler\n",
        "from keras.utils import to_categorical\n",
        "import matplotlib.pyplot as plt"
      ],
      "execution_count": null,
      "outputs": []
    },
    {
      "cell_type": "markdown",
      "metadata": {
        "id": "ZxDSRGDml-Dj"
      },
      "source": [
        "#Preprocessing"
      ]
    },
    {
      "cell_type": "code",
      "metadata": {
        "colab": {
          "base_uri": "https://localhost:8080/"
        },
        "id": "_OAy6hKll6LM",
        "outputId": "180cbe31-43e0-4639-ed77-fcf96f765697"
      },
      "source": [
        "from google.colab import drive\n",
        "drive.mount('/content/drive')"
      ],
      "execution_count": null,
      "outputs": [
        {
          "output_type": "stream",
          "text": [
            "Mounted at /content/drive\n"
          ],
          "name": "stdout"
        }
      ]
    },
    {
      "cell_type": "markdown",
      "metadata": {
        "id": "hQxfXTbrumpw"
      },
      "source": [
        "Since our images are stored in Google Drive, we need to change the image paths to Google Drive."
      ]
    },
    {
      "cell_type": "code",
      "metadata": {
        "id": "JM9pmnT3mAL7"
      },
      "source": [
        "#get data into dataframe\n",
        "url = 'https://raw.githubusercontent.com/Shirone0110/BookCover/main/BookCover_2.csv'\n",
        "df = pd.read_csv(url)\n",
        "for i in range(len(df.index)):\n",
        "  path = '/content/drive/MyDrive/BookCovers/image_' + str(i) + '.jpg'\n",
        "  df['image'][i] = path"
      ],
      "execution_count": null,
      "outputs": []
    },
    {
      "cell_type": "markdown",
      "metadata": {
        "id": "CKEYToA9usXG"
      },
      "source": [
        "We choose 3 categories with few overlapping books to work on."
      ]
    },
    {
      "cell_type": "code",
      "metadata": {
        "colab": {
          "base_uri": "https://localhost:8080/",
          "height": 206
        },
        "id": "7UPR9sVOmFra",
        "outputId": "f33647dd-9806-41b0-e215-debdc6c383ec"
      },
      "source": [
        "#select categories\n",
        "df = df[(df['category'] == 'Crime-Thriller') | (df['category'] == 'Food-Drink') | \n",
        "        (df['category'] == 'Graphic-Novels-Anime-Manga')]\n",
        "df.head()"
      ],
      "execution_count": null,
      "outputs": [
        {
          "output_type": "execute_result",
          "data": {
            "text/html": [
              "<div>\n",
              "<style scoped>\n",
              "    .dataframe tbody tr th:only-of-type {\n",
              "        vertical-align: middle;\n",
              "    }\n",
              "\n",
              "    .dataframe tbody tr th {\n",
              "        vertical-align: top;\n",
              "    }\n",
              "\n",
              "    .dataframe thead th {\n",
              "        text-align: right;\n",
              "    }\n",
              "</style>\n",
              "<table border=\"1\" class=\"dataframe\">\n",
              "  <thead>\n",
              "    <tr style=\"text-align: right;\">\n",
              "      <th></th>\n",
              "      <th>image</th>\n",
              "      <th>name</th>\n",
              "      <th>author</th>\n",
              "      <th>category</th>\n",
              "    </tr>\n",
              "  </thead>\n",
              "  <tbody>\n",
              "    <tr>\n",
              "      <th>7900</th>\n",
              "      <td>/content/drive/MyDrive/BookCovers/image_7900.jpg</td>\n",
              "      <td>1984</td>\n",
              "      <td>George Orwell</td>\n",
              "      <td>Crime-Thriller</td>\n",
              "    </tr>\n",
              "    <tr>\n",
              "      <th>7901</th>\n",
              "      <td>/content/drive/MyDrive/BookCovers/image_7901.jpg</td>\n",
              "      <td>Man's Search For Meaning</td>\n",
              "      <td>Viktor E. Frankl</td>\n",
              "      <td>Crime-Thriller</td>\n",
              "    </tr>\n",
              "    <tr>\n",
              "      <th>7902</th>\n",
              "      <td>/content/drive/MyDrive/BookCovers/image_7902.jpg</td>\n",
              "      <td>Animal Farm</td>\n",
              "      <td>George Orwell</td>\n",
              "      <td>Crime-Thriller</td>\n",
              "    </tr>\n",
              "    <tr>\n",
              "      <th>7903</th>\n",
              "      <td>/content/drive/MyDrive/BookCovers/image_7903.jpg</td>\n",
              "      <td>The Husband's Secret</td>\n",
              "      <td>Liane Moriarty</td>\n",
              "      <td>Crime-Thriller</td>\n",
              "    </tr>\n",
              "    <tr>\n",
              "      <th>7904</th>\n",
              "      <td>/content/drive/MyDrive/BookCovers/image_7904.jpg</td>\n",
              "      <td>Gone Girl</td>\n",
              "      <td>Gillian Flynn</td>\n",
              "      <td>Crime-Thriller</td>\n",
              "    </tr>\n",
              "  </tbody>\n",
              "</table>\n",
              "</div>"
            ],
            "text/plain": [
              "                                                 image  ...        category\n",
              "7900  /content/drive/MyDrive/BookCovers/image_7900.jpg  ...  Crime-Thriller\n",
              "7901  /content/drive/MyDrive/BookCovers/image_7901.jpg  ...  Crime-Thriller\n",
              "7902  /content/drive/MyDrive/BookCovers/image_7902.jpg  ...  Crime-Thriller\n",
              "7903  /content/drive/MyDrive/BookCovers/image_7903.jpg  ...  Crime-Thriller\n",
              "7904  /content/drive/MyDrive/BookCovers/image_7904.jpg  ...  Crime-Thriller\n",
              "\n",
              "[5 rows x 4 columns]"
            ]
          },
          "metadata": {
            "tags": []
          },
          "execution_count": 5
        }
      ]
    },
    {
      "cell_type": "markdown",
      "metadata": {
        "id": "57Rn_LYxuxoV"
      },
      "source": [
        "Since there are overlapping books, we drop the duplicated book names. We shuffle the data to make sure books of same category don't end up in one block."
      ]
    },
    {
      "cell_type": "code",
      "metadata": {
        "id": "1q8tA4JbmLJD"
      },
      "source": [
        "#drop duplicated entries and shuffle data\n",
        "df = df.drop_duplicates(subset = 'name', keep = 'last')\n",
        "df = df.sample(frac = 1)"
      ],
      "execution_count": null,
      "outputs": []
    },
    {
      "cell_type": "markdown",
      "metadata": {
        "id": "Qv2OA9ohu5YH"
      },
      "source": [
        "Then we transform images into numpy array with normalized range [0, 1]"
      ]
    },
    {
      "cell_type": "code",
      "metadata": {
        "id": "tDIoFWlqmOhA"
      },
      "source": [
        "#transform data into numpy array \n",
        "X = []\n",
        "for url in df['image']:\n",
        "  im = cv2.imread(url)                      #read image\n",
        "  im = cv2.cvtColor(im, cv2.COLOR_BGR2RGB)  #convert image into RBG\n",
        "  arr = np.asarray(im)                      #convert image into numpy array\n",
        "  arr = arr / 255                           #normalized into [0, 1] values\n",
        "  X.append(arr)\n",
        "\n",
        "X = np.array(X)"
      ],
      "execution_count": null,
      "outputs": []
    },
    {
      "cell_type": "markdown",
      "metadata": {
        "id": "WKugK6vDvKvU"
      },
      "source": [
        "Then we one-hot encode the book categories."
      ]
    },
    {
      "cell_type": "code",
      "metadata": {
        "id": "fSnIzlcJm7dm"
      },
      "source": [
        "#one-hot encode the labels\n",
        "encoder = LabelEncoder()\n",
        "numbered_labels = encoder.fit_transform(df['category'])\n",
        "Y = to_categorical(numbered_labels)"
      ],
      "execution_count": null,
      "outputs": []
    },
    {
      "cell_type": "markdown",
      "metadata": {
        "id": "dYOOhGyLvNgU"
      },
      "source": [
        "We split the data into 3 sets: train set, validation set, test set."
      ]
    },
    {
      "cell_type": "code",
      "metadata": {
        "id": "aZb1P82JnNdv"
      },
      "source": [
        "#train test split data\n",
        "x_train, x_test, y_train, y_test = train_test_split(X, Y)\n",
        "\n",
        "#split into validation set\n",
        "validation_ratio = 0.10\n",
        "validation_record_num = int(np.round(len(x_train) * validation_ratio))\n",
        "x_val = x_train[:validation_record_num]\n",
        "y_val = y_train[:validation_record_num]\n",
        "x_train = x_train[validation_record_num:]\n",
        "y_train = y_train[validation_record_num:]"
      ],
      "execution_count": null,
      "outputs": []
    },
    {
      "cell_type": "markdown",
      "metadata": {
        "id": "tsEOZZNHnsyA"
      },
      "source": [
        "#Build model"
      ]
    },
    {
      "cell_type": "markdown",
      "metadata": {
        "id": "H9xc_Xd7vR-D"
      },
      "source": [
        "The model is built based on the guide linked in References."
      ]
    },
    {
      "cell_type": "code",
      "metadata": {
        "id": "CJ5KbCBpnusq"
      },
      "source": [
        "#function for inception layer\n",
        "def inception_module(x, filters_1x1, filters_3x3_reduce, filters_3x3, \n",
        "                     filters_5x5_reduce, filters_5x5, filters_pool_proj,\n",
        "                     name = None):\n",
        "  conv_1x1 = Conv2D(filters_1x1, (1, 1), padding = 'same', activation = 'relu',\n",
        "                    kernel_initializer = kernel_init,\n",
        "                    bias_initializer = bias_init)(x)\n",
        "  conv_3x3 = Conv2D(filters_3x3_reduce, (1, 1), padding = 'same', \n",
        "                    activation = 'relu', kernel_initializer = kernel_init,\n",
        "                    bias_initializer = bias_init)(x)\n",
        "  conv_3x3 = Conv2D(filters_3x3, (3, 3), padding = 'same', activation = 'relu',\n",
        "                    kernel_initializer = kernel_init,\n",
        "                    bias_initializer = bias_init)(conv_3x3)\n",
        "  conv_5x5 = Conv2D(filters_5x5_reduce, (1, 1), padding = 'same', \n",
        "                    activation = 'relu', kernel_initializer = kernel_init,\n",
        "                    bias_initializer = bias_init)(x)\n",
        "  conv_5x5 = Conv2D(filters_5x5, (5, 5), padding = 'same', activation = 'relu',\n",
        "                    kernel_initializer = kernel_init,\n",
        "                    bias_initializer = bias_init)(conv_5x5)\n",
        "  pool_proj = MaxPool2D((3, 3), strides = (1, 1), padding = 'same')(x)\n",
        "  pool_proj = Conv2D(filters_pool_proj, (1, 1), padding = 'same', \n",
        "                     activation = 'relu', kernel_initializer = kernel_init,\n",
        "                     bias_initializer = bias_init)(pool_proj)\n",
        "  output = concatenate([conv_1x1, conv_3x3, conv_5x5, pool_proj], axis = 3, \n",
        "                       name = name)\n",
        "  return output"
      ],
      "execution_count": null,
      "outputs": []
    },
    {
      "cell_type": "code",
      "metadata": {
        "id": "eiEG9sNDt_6C"
      },
      "source": [
        "#create GoogLeNet architecture\n",
        "kernel_init = keras.initializers.glorot_uniform()\n",
        "bias_init = keras.initializers.Constant(value = 0.2)\n",
        "\n",
        "input_layer = Input(shape = (200, 128, 3))\n",
        "\n",
        "x = Conv2D(64, (7, 7), padding = 'same', strides = (2, 2), activation = 'relu',\n",
        "           name = 'conv_1_7x7/2', kernel_initializer = kernel_init,\n",
        "           bias_initializer = bias_init)(input_layer)\n",
        "x = MaxPool2D((3, 3), padding = 'same', strides = (2, 2),\n",
        "              name = 'max_pool_1_3x3/2')(x)\n",
        "x = Conv2D(64, (1, 1), padding = 'same', strides = (1, 1), activation = 'relu',\n",
        "           name = 'conv_2a_3x3/1')(x)\n",
        "x = Conv2D(192, (3, 3), padding = 'same', strides = (1, 1), activation = 'relu',\n",
        "           name = 'conv_2b_3x3/1')(x)\n",
        "x = MaxPool2D((3, 3), padding = 'same', strides = (2, 2), \n",
        "              name = 'max_pool_2_3x3/2')(x)\n",
        "\n",
        "x = inception_module(x, 64, 96, 128, 16, 32, 32, name = 'inception_3a')\n",
        "x = inception_module(x, 128, 128, 192, 32, 96, 64, name = 'inception_3b')\n",
        "x = MaxPool2D((3, 3), padding = 'same', strides = (2, 2), \n",
        "              name = 'max_pool_3_3x3/2')(x)\n",
        "\n",
        "x = inception_module(x, 192, 96, 208, 16, 48, 64, name = 'inception_4a')\n",
        "\n",
        "x1 = AveragePooling2D((5, 5), strides = 3)(x)\n",
        "x1 = Conv2D(128, (1, 1), padding = 'same', activation = 'relu')(x1)\n",
        "x1 = Flatten()(x1)\n",
        "x1 = Dense(1024, activation = 'relu')(x1)\n",
        "x1 = Dropout(0.7)(x1)\n",
        "x1 = Dense(3, activation = 'softmax', name = 'auxilliary_output_1')(x1)\n",
        "\n",
        "x = inception_module(x, 160, 112, 224, 24, 64, 64, name = 'inception_4b')\n",
        "x = inception_module(x, 128, 128, 256, 24, 64, 64, name = 'inception_4c')\n",
        "x = inception_module(x, 112, 144, 288, 32, 64, 64, name = 'inception_4d')\n",
        "\n",
        "x2 = AveragePooling2D((5, 5), strides = 3)(x)\n",
        "x2 = Conv2D(128, (1, 1), padding = 'same', activation = 'relu')(x2)\n",
        "x2 = Flatten()(x2)\n",
        "x2 = Dense(1024, activation = 'relu')(x2)\n",
        "x2 = Dropout(0.7)(x2)\n",
        "x2 = Dense(3, activation = 'softmax', name = 'auxilliary_output_2')(x2)\n",
        "\n",
        "x = inception_module(x, 256, 160, 320, 32, 128, 128, name = 'inception_4e')\n",
        "x = MaxPool2D((3, 3), strides = (2, 2), padding = 'same',\n",
        "              name = 'max_pool_4_3x3/2')(x)\n",
        "x = inception_module(x, 256, 160, 320, 32, 128, 128, name = 'inception_5a')\n",
        "x = inception_module(x, 384, 192, 384, 48, 128, 128, name = 'inception_5b')\n",
        "\n",
        "x = GlobalAveragePooling2D(name = 'avg_pool_5_3x3/1')(x)\n",
        "x = Dropout(0.4)(x)\n",
        "x = Dense(3, activation = 'softmax', name = 'output')(x)"
      ],
      "execution_count": null,
      "outputs": []
    },
    {
      "cell_type": "code",
      "metadata": {
        "id": "TbToL45c2fzp"
      },
      "source": [
        "#check model\n",
        "model = Model(input_layer, [x, x1, x2], name = 'inception_v1')\n",
        "model.summary()"
      ],
      "execution_count": null,
      "outputs": []
    },
    {
      "cell_type": "code",
      "metadata": {
        "id": "F9DJRPiMXmkf"
      },
      "source": [
        "#define learning rate, callbacks\n",
        "epochs = 100\n",
        "initial_lrate = 0.01\n",
        "\n",
        "def decay(epoch, steps = 100):\n",
        "  initial_lrate = 0.01\n",
        "  drop = 0.96\n",
        "  epochs_drop = 32\n",
        "  lrate = initial_lrate * math.pow(drop, math.floor((1 + epoch)/ epochs_drop))\n",
        "  return lrate\n",
        "\n",
        "sgd = SGD(initial_lrate, 0.9, False)\n",
        "lr_sc = LearningRateScheduler(decay, verbose = 1)\n",
        "\n",
        "model.compile(loss = ['categorical_crossentropy', 'categorical_crossentropy',\n",
        "              'categorical_crossentropy'], loss_weights = [1, 0.3, 0.3],\n",
        "              optimizer = sgd, metrics = ['accuracy'])"
      ],
      "execution_count": null,
      "outputs": []
    },
    {
      "cell_type": "markdown",
      "metadata": {
        "id": "2-da9JNevXoz"
      },
      "source": [
        "Then we fit the model to training set."
      ]
    },
    {
      "cell_type": "code",
      "metadata": {
        "colab": {
          "base_uri": "https://localhost:8080/"
        },
        "id": "j-Qo-xcrZkfl",
        "outputId": "8ff83934-bc40-4657-b77b-60482edcf595"
      },
      "source": [
        "#run model\n",
        "history = model.fit(x_train, [y_train, y_train, y_train], \n",
        "                    validation_data = (x_val, [y_val, y_val, y_val]), \n",
        "                    epochs = epochs, batch_size = 128, callbacks = [lr_sc])"
      ],
      "execution_count": null,
      "outputs": [
        {
          "output_type": "stream",
          "text": [
            "Epoch 1/100\n",
            "\n",
            "Epoch 00001: LearningRateScheduler reducing learning rate to 0.01.\n",
            "15/15 [==============================] - 194s 13s/step - loss: 1.9726 - output_loss: 1.2684 - auxilliary_output_1_loss: 1.1687 - auxilliary_output_2_loss: 1.1787 - output_accuracy: 0.3419 - auxilliary_output_1_accuracy: 0.3314 - auxilliary_output_2_accuracy: 0.3273 - val_loss: 1.8257 - val_output_loss: 1.1627 - val_auxilliary_output_1_loss: 1.1068 - val_auxilliary_output_2_loss: 1.1030 - val_output_accuracy: 0.3029 - val_auxilliary_output_1_accuracy: 0.3173 - val_auxilliary_output_2_accuracy: 0.3173\n",
            "Epoch 2/100\n",
            "\n",
            "Epoch 00002: LearningRateScheduler reducing learning rate to 0.01.\n",
            "15/15 [==============================] - 188s 13s/step - loss: 1.8131 - output_loss: 1.1497 - auxilliary_output_1_loss: 1.1020 - auxilliary_output_2_loss: 1.1093 - output_accuracy: 0.3355 - auxilliary_output_1_accuracy: 0.3621 - auxilliary_output_2_accuracy: 0.3225 - val_loss: 1.7784 - val_output_loss: 1.1213 - val_auxilliary_output_1_loss: 1.0929 - val_auxilliary_output_2_loss: 1.0977 - val_output_accuracy: 0.3173 - val_auxilliary_output_1_accuracy: 0.3173 - val_auxilliary_output_2_accuracy: 0.3173\n",
            "Epoch 3/100\n",
            "\n",
            "Epoch 00003: LearningRateScheduler reducing learning rate to 0.01.\n",
            "15/15 [==============================] - 187s 12s/step - loss: 1.7830 - output_loss: 1.1226 - auxilliary_output_1_loss: 1.0981 - auxilliary_output_2_loss: 1.1034 - output_accuracy: 0.3386 - auxilliary_output_1_accuracy: 0.3652 - auxilliary_output_2_accuracy: 0.3267 - val_loss: 1.8058 - val_output_loss: 1.1477 - val_auxilliary_output_1_loss: 1.0925 - val_auxilliary_output_2_loss: 1.1010 - val_output_accuracy: 0.3173 - val_auxilliary_output_1_accuracy: 0.3413 - val_auxilliary_output_2_accuracy: 0.3173\n",
            "Epoch 4/100\n",
            "\n",
            "Epoch 00004: LearningRateScheduler reducing learning rate to 0.01.\n",
            "15/15 [==============================] - 186s 12s/step - loss: 1.7754 - output_loss: 1.1169 - auxilliary_output_1_loss: 1.0998 - auxilliary_output_2_loss: 1.0950 - output_accuracy: 0.3588 - auxilliary_output_1_accuracy: 0.3578 - auxilliary_output_2_accuracy: 0.3470 - val_loss: 1.7500 - val_output_loss: 1.0979 - val_auxilliary_output_1_loss: 1.0803 - val_auxilliary_output_2_loss: 1.0934 - val_output_accuracy: 0.3173 - val_auxilliary_output_1_accuracy: 0.4423 - val_auxilliary_output_2_accuracy: 0.4135\n",
            "Epoch 5/100\n",
            "\n",
            "Epoch 00005: LearningRateScheduler reducing learning rate to 0.01.\n",
            "15/15 [==============================] - 187s 12s/step - loss: 1.7633 - output_loss: 1.1096 - auxilliary_output_1_loss: 1.0829 - auxilliary_output_2_loss: 1.0960 - output_accuracy: 0.3628 - auxilliary_output_1_accuracy: 0.3817 - auxilliary_output_2_accuracy: 0.3532 - val_loss: 1.7349 - val_output_loss: 1.0902 - val_auxilliary_output_1_loss: 1.0616 - val_auxilliary_output_2_loss: 1.0873 - val_output_accuracy: 0.3173 - val_auxilliary_output_1_accuracy: 0.4663 - val_auxilliary_output_2_accuracy: 0.4087\n",
            "Epoch 6/100\n",
            "\n",
            "Epoch 00006: LearningRateScheduler reducing learning rate to 0.01.\n",
            "15/15 [==============================] - 186s 12s/step - loss: 1.7419 - output_loss: 1.0950 - auxilliary_output_1_loss: 1.0711 - auxilliary_output_2_loss: 1.0852 - output_accuracy: 0.3498 - auxilliary_output_1_accuracy: 0.4015 - auxilliary_output_2_accuracy: 0.4151 - val_loss: 1.6838 - val_output_loss: 1.0508 - val_auxilliary_output_1_loss: 1.0460 - val_auxilliary_output_2_loss: 1.0641 - val_output_accuracy: 0.4615 - val_auxilliary_output_1_accuracy: 0.4712 - val_auxilliary_output_2_accuracy: 0.4327\n",
            "Epoch 7/100\n",
            "\n",
            "Epoch 00007: LearningRateScheduler reducing learning rate to 0.01.\n",
            "15/15 [==============================] - 186s 12s/step - loss: 1.7308 - output_loss: 1.0869 - auxilliary_output_1_loss: 1.0715 - auxilliary_output_2_loss: 1.0751 - output_accuracy: 0.4032 - auxilliary_output_1_accuracy: 0.4294 - auxilliary_output_2_accuracy: 0.4303 - val_loss: 1.6859 - val_output_loss: 1.0557 - val_auxilliary_output_1_loss: 1.0479 - val_auxilliary_output_2_loss: 1.0527 - val_output_accuracy: 0.4519 - val_auxilliary_output_1_accuracy: 0.4615 - val_auxilliary_output_2_accuracy: 0.4663\n",
            "Epoch 8/100\n",
            "\n",
            "Epoch 00008: LearningRateScheduler reducing learning rate to 0.01.\n",
            "15/15 [==============================] - 186s 12s/step - loss: 1.7181 - output_loss: 1.0769 - auxilliary_output_1_loss: 1.0654 - auxilliary_output_2_loss: 1.0719 - output_accuracy: 0.4222 - auxilliary_output_1_accuracy: 0.4366 - auxilliary_output_2_accuracy: 0.4118 - val_loss: 1.6694 - val_output_loss: 1.0481 - val_auxilliary_output_1_loss: 1.0288 - val_auxilliary_output_2_loss: 1.0420 - val_output_accuracy: 0.4375 - val_auxilliary_output_1_accuracy: 0.4856 - val_auxilliary_output_2_accuracy: 0.4423\n",
            "Epoch 9/100\n",
            "\n",
            "Epoch 00009: LearningRateScheduler reducing learning rate to 0.01.\n",
            "15/15 [==============================] - 186s 12s/step - loss: 1.7055 - output_loss: 1.0703 - auxilliary_output_1_loss: 1.0525 - auxilliary_output_2_loss: 1.0648 - output_accuracy: 0.4097 - auxilliary_output_1_accuracy: 0.4440 - auxilliary_output_2_accuracy: 0.4132 - val_loss: 1.7164 - val_output_loss: 1.0833 - val_auxilliary_output_1_loss: 1.0479 - val_auxilliary_output_2_loss: 1.0626 - val_output_accuracy: 0.4135 - val_auxilliary_output_1_accuracy: 0.4567 - val_auxilliary_output_2_accuracy: 0.4087\n",
            "Epoch 10/100\n",
            "\n",
            "Epoch 00010: LearningRateScheduler reducing learning rate to 0.01.\n",
            "15/15 [==============================] - 186s 12s/step - loss: 1.7270 - output_loss: 1.0832 - auxilliary_output_1_loss: 1.0686 - auxilliary_output_2_loss: 1.0775 - output_accuracy: 0.4094 - auxilliary_output_1_accuracy: 0.4374 - auxilliary_output_2_accuracy: 0.4194 - val_loss: 1.6735 - val_output_loss: 1.0502 - val_auxilliary_output_1_loss: 1.0352 - val_auxilliary_output_2_loss: 1.0427 - val_output_accuracy: 0.4327 - val_auxilliary_output_1_accuracy: 0.4615 - val_auxilliary_output_2_accuracy: 0.4279\n",
            "Epoch 11/100\n",
            "\n",
            "Epoch 00011: LearningRateScheduler reducing learning rate to 0.01.\n",
            "15/15 [==============================] - 186s 12s/step - loss: 1.7005 - output_loss: 1.0640 - auxilliary_output_1_loss: 1.0655 - auxilliary_output_2_loss: 1.0562 - output_accuracy: 0.4130 - auxilliary_output_1_accuracy: 0.4421 - auxilliary_output_2_accuracy: 0.4270 - val_loss: 1.6534 - val_output_loss: 1.0278 - val_auxilliary_output_1_loss: 1.0498 - val_auxilliary_output_2_loss: 1.0355 - val_output_accuracy: 0.4663 - val_auxilliary_output_1_accuracy: 0.4567 - val_auxilliary_output_2_accuracy: 0.4712\n",
            "Epoch 12/100\n",
            "\n",
            "Epoch 00012: LearningRateScheduler reducing learning rate to 0.01.\n",
            "15/15 [==============================] - 194s 13s/step - loss: 1.6758 - output_loss: 1.0456 - auxilliary_output_1_loss: 1.0494 - auxilliary_output_2_loss: 1.0511 - output_accuracy: 0.4625 - auxilliary_output_1_accuracy: 0.4593 - auxilliary_output_2_accuracy: 0.4502 - val_loss: 1.6550 - val_output_loss: 1.0349 - val_auxilliary_output_1_loss: 1.0291 - val_auxilliary_output_2_loss: 1.0379 - val_output_accuracy: 0.4904 - val_auxilliary_output_1_accuracy: 0.4712 - val_auxilliary_output_2_accuracy: 0.4808\n",
            "Epoch 13/100\n",
            "\n",
            "Epoch 00013: LearningRateScheduler reducing learning rate to 0.01.\n",
            "15/15 [==============================] - 188s 12s/step - loss: 1.6675 - output_loss: 1.0406 - auxilliary_output_1_loss: 1.0445 - auxilliary_output_2_loss: 1.0452 - output_accuracy: 0.4756 - auxilliary_output_1_accuracy: 0.4543 - auxilliary_output_2_accuracy: 0.4566 - val_loss: 1.6281 - val_output_loss: 1.0158 - val_auxilliary_output_1_loss: 1.0191 - val_auxilliary_output_2_loss: 1.0219 - val_output_accuracy: 0.5144 - val_auxilliary_output_1_accuracy: 0.5000 - val_auxilliary_output_2_accuracy: 0.4760\n",
            "Epoch 14/100\n",
            "\n",
            "Epoch 00014: LearningRateScheduler reducing learning rate to 0.01.\n",
            "15/15 [==============================] - 186s 12s/step - loss: 1.6770 - output_loss: 1.0505 - auxilliary_output_1_loss: 1.0363 - auxilliary_output_2_loss: 1.0520 - output_accuracy: 0.4523 - auxilliary_output_1_accuracy: 0.4635 - auxilliary_output_2_accuracy: 0.4496 - val_loss: 1.7363 - val_output_loss: 1.1101 - val_auxilliary_output_1_loss: 1.0390 - val_auxilliary_output_2_loss: 1.0485 - val_output_accuracy: 0.4087 - val_auxilliary_output_1_accuracy: 0.4808 - val_auxilliary_output_2_accuracy: 0.4663\n",
            "Epoch 15/100\n",
            "\n",
            "Epoch 00015: LearningRateScheduler reducing learning rate to 0.01.\n",
            "15/15 [==============================] - 187s 12s/step - loss: 1.6816 - output_loss: 1.0612 - auxilliary_output_1_loss: 1.0322 - auxilliary_output_2_loss: 1.0357 - output_accuracy: 0.4322 - auxilliary_output_1_accuracy: 0.4966 - auxilliary_output_2_accuracy: 0.4686 - val_loss: 1.6610 - val_output_loss: 1.0461 - val_auxilliary_output_1_loss: 1.0172 - val_auxilliary_output_2_loss: 1.0324 - val_output_accuracy: 0.4231 - val_auxilliary_output_1_accuracy: 0.4712 - val_auxilliary_output_2_accuracy: 0.4615\n",
            "Epoch 16/100\n",
            "\n",
            "Epoch 00016: LearningRateScheduler reducing learning rate to 0.01.\n",
            "15/15 [==============================] - 185s 12s/step - loss: 1.6435 - output_loss: 1.0254 - auxilliary_output_1_loss: 1.0266 - auxilliary_output_2_loss: 1.0339 - output_accuracy: 0.4815 - auxilliary_output_1_accuracy: 0.4723 - auxilliary_output_2_accuracy: 0.4643 - val_loss: 1.6611 - val_output_loss: 1.0427 - val_auxilliary_output_1_loss: 1.0327 - val_auxilliary_output_2_loss: 1.0287 - val_output_accuracy: 0.5048 - val_auxilliary_output_1_accuracy: 0.4760 - val_auxilliary_output_2_accuracy: 0.4808\n",
            "Epoch 17/100\n",
            "\n",
            "Epoch 00017: LearningRateScheduler reducing learning rate to 0.01.\n",
            "15/15 [==============================] - 185s 12s/step - loss: 1.6749 - output_loss: 1.0467 - auxilliary_output_1_loss: 1.0488 - auxilliary_output_2_loss: 1.0453 - output_accuracy: 0.4568 - auxilliary_output_1_accuracy: 0.4656 - auxilliary_output_2_accuracy: 0.4684 - val_loss: 1.6358 - val_output_loss: 1.0282 - val_auxilliary_output_1_loss: 1.0148 - val_auxilliary_output_2_loss: 1.0105 - val_output_accuracy: 0.5048 - val_auxilliary_output_1_accuracy: 0.5000 - val_auxilliary_output_2_accuracy: 0.5000\n",
            "Epoch 18/100\n",
            "\n",
            "Epoch 00018: LearningRateScheduler reducing learning rate to 0.01.\n",
            "15/15 [==============================] - 185s 12s/step - loss: 1.6350 - output_loss: 1.0234 - auxilliary_output_1_loss: 1.0162 - auxilliary_output_2_loss: 1.0223 - output_accuracy: 0.4800 - auxilliary_output_1_accuracy: 0.5047 - auxilliary_output_2_accuracy: 0.4706 - val_loss: 1.6571 - val_output_loss: 1.0379 - val_auxilliary_output_1_loss: 1.0241 - val_auxilliary_output_2_loss: 1.0398 - val_output_accuracy: 0.4519 - val_auxilliary_output_1_accuracy: 0.4712 - val_auxilliary_output_2_accuracy: 0.4567\n",
            "Epoch 19/100\n",
            "\n",
            "Epoch 00019: LearningRateScheduler reducing learning rate to 0.01.\n",
            "15/15 [==============================] - 185s 12s/step - loss: 1.6442 - output_loss: 1.0309 - auxilliary_output_1_loss: 1.0171 - auxilliary_output_2_loss: 1.0272 - output_accuracy: 0.4687 - auxilliary_output_1_accuracy: 0.4836 - auxilliary_output_2_accuracy: 0.4469 - val_loss: 1.6466 - val_output_loss: 1.0265 - val_auxilliary_output_1_loss: 1.0362 - val_auxilliary_output_2_loss: 1.0308 - val_output_accuracy: 0.4712 - val_auxilliary_output_1_accuracy: 0.4663 - val_auxilliary_output_2_accuracy: 0.4856\n",
            "Epoch 20/100\n",
            "\n",
            "Epoch 00020: LearningRateScheduler reducing learning rate to 0.01.\n",
            "15/15 [==============================] - 184s 12s/step - loss: 1.6267 - output_loss: 1.0181 - auxilliary_output_1_loss: 1.0114 - auxilliary_output_2_loss: 1.0171 - output_accuracy: 0.4605 - auxilliary_output_1_accuracy: 0.4872 - auxilliary_output_2_accuracy: 0.4800 - val_loss: 1.6086 - val_output_loss: 1.0013 - val_auxilliary_output_1_loss: 1.0138 - val_auxilliary_output_2_loss: 1.0104 - val_output_accuracy: 0.5144 - val_auxilliary_output_1_accuracy: 0.4663 - val_auxilliary_output_2_accuracy: 0.5000\n",
            "Epoch 21/100\n",
            "\n",
            "Epoch 00021: LearningRateScheduler reducing learning rate to 0.01.\n",
            "15/15 [==============================] - 184s 12s/step - loss: 1.5790 - output_loss: 0.9805 - auxilliary_output_1_loss: 0.9956 - auxilliary_output_2_loss: 0.9995 - output_accuracy: 0.5298 - auxilliary_output_1_accuracy: 0.5303 - auxilliary_output_2_accuracy: 0.5112 - val_loss: 1.5822 - val_output_loss: 0.9904 - val_auxilliary_output_1_loss: 0.9865 - val_auxilliary_output_2_loss: 0.9858 - val_output_accuracy: 0.5288 - val_auxilliary_output_1_accuracy: 0.5240 - val_auxilliary_output_2_accuracy: 0.5337\n",
            "Epoch 22/100\n",
            "\n",
            "Epoch 00022: LearningRateScheduler reducing learning rate to 0.01.\n",
            "15/15 [==============================] - 184s 12s/step - loss: 1.6501 - output_loss: 1.0358 - auxilliary_output_1_loss: 1.0212 - auxilliary_output_2_loss: 1.0265 - output_accuracy: 0.4802 - auxilliary_output_1_accuracy: 0.4963 - auxilliary_output_2_accuracy: 0.4806 - val_loss: 1.8324 - val_output_loss: 1.1577 - val_auxilliary_output_1_loss: 1.0922 - val_auxilliary_output_2_loss: 1.1568 - val_output_accuracy: 0.4471 - val_auxilliary_output_1_accuracy: 0.4904 - val_auxilliary_output_2_accuracy: 0.4519\n",
            "Epoch 23/100\n",
            "\n",
            "Epoch 00023: LearningRateScheduler reducing learning rate to 0.01.\n",
            "15/15 [==============================] - 184s 12s/step - loss: 1.6745 - output_loss: 1.0471 - auxilliary_output_1_loss: 1.0369 - auxilliary_output_2_loss: 1.0544 - output_accuracy: 0.4657 - auxilliary_output_1_accuracy: 0.4828 - auxilliary_output_2_accuracy: 0.4453 - val_loss: 1.6060 - val_output_loss: 1.0040 - val_auxilliary_output_1_loss: 1.0000 - val_auxilliary_output_2_loss: 1.0066 - val_output_accuracy: 0.5096 - val_auxilliary_output_1_accuracy: 0.5433 - val_auxilliary_output_2_accuracy: 0.5240\n",
            "Epoch 24/100\n",
            "\n",
            "Epoch 00024: LearningRateScheduler reducing learning rate to 0.01.\n",
            "15/15 [==============================] - 184s 12s/step - loss: 1.6020 - output_loss: 1.0001 - auxilliary_output_1_loss: 0.9996 - auxilliary_output_2_loss: 1.0067 - output_accuracy: 0.5128 - auxilliary_output_1_accuracy: 0.5002 - auxilliary_output_2_accuracy: 0.4898 - val_loss: 1.6106 - val_output_loss: 1.0035 - val_auxilliary_output_1_loss: 1.0158 - val_auxilliary_output_2_loss: 1.0076 - val_output_accuracy: 0.5144 - val_auxilliary_output_1_accuracy: 0.5144 - val_auxilliary_output_2_accuracy: 0.5337\n",
            "Epoch 25/100\n",
            "\n",
            "Epoch 00025: LearningRateScheduler reducing learning rate to 0.01.\n",
            "15/15 [==============================] - 188s 13s/step - loss: 1.5677 - output_loss: 0.9776 - auxilliary_output_1_loss: 0.9824 - auxilliary_output_2_loss: 0.9846 - output_accuracy: 0.5254 - auxilliary_output_1_accuracy: 0.5022 - auxilliary_output_2_accuracy: 0.5087 - val_loss: 1.8286 - val_output_loss: 1.1416 - val_auxilliary_output_1_loss: 1.1489 - val_auxilliary_output_2_loss: 1.1411 - val_output_accuracy: 0.4087 - val_auxilliary_output_1_accuracy: 0.4038 - val_auxilliary_output_2_accuracy: 0.3942\n",
            "Epoch 26/100\n",
            "\n",
            "Epoch 00026: LearningRateScheduler reducing learning rate to 0.01.\n",
            "15/15 [==============================] - 184s 12s/step - loss: 1.8296 - output_loss: 1.1443 - auxilliary_output_1_loss: 1.1524 - auxilliary_output_2_loss: 1.1321 - output_accuracy: 0.3648 - auxilliary_output_1_accuracy: 0.3692 - auxilliary_output_2_accuracy: 0.3655 - val_loss: 1.7092 - val_output_loss: 1.0648 - val_auxilliary_output_1_loss: 1.0807 - val_auxilliary_output_2_loss: 1.0671 - val_output_accuracy: 0.3942 - val_auxilliary_output_1_accuracy: 0.3846 - val_auxilliary_output_2_accuracy: 0.4423\n",
            "Epoch 27/100\n",
            "\n",
            "Epoch 00027: LearningRateScheduler reducing learning rate to 0.01.\n",
            "15/15 [==============================] - 185s 12s/step - loss: 1.6978 - output_loss: 1.0609 - auxilliary_output_1_loss: 1.0623 - auxilliary_output_2_loss: 1.0606 - output_accuracy: 0.3919 - auxilliary_output_1_accuracy: 0.4207 - auxilliary_output_2_accuracy: 0.4105 - val_loss: 1.6161 - val_output_loss: 1.0058 - val_auxilliary_output_1_loss: 1.0264 - val_auxilliary_output_2_loss: 1.0080 - val_output_accuracy: 0.4952 - val_auxilliary_output_1_accuracy: 0.4760 - val_auxilliary_output_2_accuracy: 0.4904\n",
            "Epoch 28/100\n",
            "\n",
            "Epoch 00028: LearningRateScheduler reducing learning rate to 0.01.\n",
            "15/15 [==============================] - 184s 12s/step - loss: 1.6432 - output_loss: 1.0240 - auxilliary_output_1_loss: 1.0303 - auxilliary_output_2_loss: 1.0335 - output_accuracy: 0.4751 - auxilliary_output_1_accuracy: 0.4694 - auxilliary_output_2_accuracy: 0.4698 - val_loss: 1.6575 - val_output_loss: 1.0401 - val_auxilliary_output_1_loss: 1.0240 - val_auxilliary_output_2_loss: 1.0339 - val_output_accuracy: 0.4663 - val_auxilliary_output_1_accuracy: 0.4904 - val_auxilliary_output_2_accuracy: 0.4712\n",
            "Epoch 29/100\n",
            "\n",
            "Epoch 00029: LearningRateScheduler reducing learning rate to 0.01.\n",
            "15/15 [==============================] - 185s 12s/step - loss: 1.6104 - output_loss: 1.0065 - auxilliary_output_1_loss: 1.0045 - auxilliary_output_2_loss: 1.0087 - output_accuracy: 0.5005 - auxilliary_output_1_accuracy: 0.5107 - auxilliary_output_2_accuracy: 0.4904 - val_loss: 1.6156 - val_output_loss: 1.0075 - val_auxilliary_output_1_loss: 1.0121 - val_auxilliary_output_2_loss: 1.0149 - val_output_accuracy: 0.5144 - val_auxilliary_output_1_accuracy: 0.4952 - val_auxilliary_output_2_accuracy: 0.5337\n",
            "Epoch 30/100\n",
            "\n",
            "Epoch 00030: LearningRateScheduler reducing learning rate to 0.01.\n",
            "15/15 [==============================] - 185s 12s/step - loss: 1.5750 - output_loss: 0.9831 - auxilliary_output_1_loss: 0.9817 - auxilliary_output_2_loss: 0.9914 - output_accuracy: 0.5224 - auxilliary_output_1_accuracy: 0.5305 - auxilliary_output_2_accuracy: 0.5067 - val_loss: 1.5894 - val_output_loss: 0.9944 - val_auxilliary_output_1_loss: 0.9863 - val_auxilliary_output_2_loss: 0.9970 - val_output_accuracy: 0.5240 - val_auxilliary_output_1_accuracy: 0.5192 - val_auxilliary_output_2_accuracy: 0.5048\n",
            "Epoch 31/100\n",
            "\n",
            "Epoch 00031: LearningRateScheduler reducing learning rate to 0.01.\n",
            "15/15 [==============================] - 185s 12s/step - loss: 1.5872 - output_loss: 0.9866 - auxilliary_output_1_loss: 0.9987 - auxilliary_output_2_loss: 1.0035 - output_accuracy: 0.5067 - auxilliary_output_1_accuracy: 0.5019 - auxilliary_output_2_accuracy: 0.4897 - val_loss: 1.5682 - val_output_loss: 0.9817 - val_auxilliary_output_1_loss: 0.9776 - val_auxilliary_output_2_loss: 0.9773 - val_output_accuracy: 0.5288 - val_auxilliary_output_1_accuracy: 0.5337 - val_auxilliary_output_2_accuracy: 0.5433\n",
            "Epoch 32/100\n",
            "\n",
            "Epoch 00032: LearningRateScheduler reducing learning rate to 0.0096.\n",
            "15/15 [==============================] - 185s 12s/step - loss: 1.5570 - output_loss: 0.9734 - auxilliary_output_1_loss: 0.9698 - auxilliary_output_2_loss: 0.9753 - output_accuracy: 0.5400 - auxilliary_output_1_accuracy: 0.5413 - auxilliary_output_2_accuracy: 0.5273 - val_loss: 1.6157 - val_output_loss: 1.0225 - val_auxilliary_output_1_loss: 0.9844 - val_auxilliary_output_2_loss: 0.9928 - val_output_accuracy: 0.4952 - val_auxilliary_output_1_accuracy: 0.5337 - val_auxilliary_output_2_accuracy: 0.5192\n",
            "Epoch 33/100\n",
            "\n",
            "Epoch 00033: LearningRateScheduler reducing learning rate to 0.0096.\n",
            "15/15 [==============================] - 185s 12s/step - loss: 1.5538 - output_loss: 0.9721 - auxilliary_output_1_loss: 0.9701 - auxilliary_output_2_loss: 0.9691 - output_accuracy: 0.5368 - auxilliary_output_1_accuracy: 0.5378 - auxilliary_output_2_accuracy: 0.5307 - val_loss: 1.5895 - val_output_loss: 0.9933 - val_auxilliary_output_1_loss: 0.9912 - val_auxilliary_output_2_loss: 0.9961 - val_output_accuracy: 0.5048 - val_auxilliary_output_1_accuracy: 0.5433 - val_auxilliary_output_2_accuracy: 0.5337\n",
            "Epoch 34/100\n",
            "\n",
            "Epoch 00034: LearningRateScheduler reducing learning rate to 0.0096.\n",
            "15/15 [==============================] - 184s 12s/step - loss: 1.5794 - output_loss: 0.9878 - auxilliary_output_1_loss: 0.9841 - auxilliary_output_2_loss: 0.9878 - output_accuracy: 0.5202 - auxilliary_output_1_accuracy: 0.5323 - auxilliary_output_2_accuracy: 0.5238 - val_loss: 1.5796 - val_output_loss: 0.9933 - val_auxilliary_output_1_loss: 0.9745 - val_auxilliary_output_2_loss: 0.9796 - val_output_accuracy: 0.5192 - val_auxilliary_output_1_accuracy: 0.5337 - val_auxilliary_output_2_accuracy: 0.5144\n",
            "Epoch 35/100\n",
            "\n",
            "Epoch 00035: LearningRateScheduler reducing learning rate to 0.0096.\n",
            "15/15 [==============================] - 184s 12s/step - loss: 1.5605 - output_loss: 0.9783 - auxilliary_output_1_loss: 0.9669 - auxilliary_output_2_loss: 0.9740 - output_accuracy: 0.5215 - auxilliary_output_1_accuracy: 0.5223 - auxilliary_output_2_accuracy: 0.5269 - val_loss: 1.5892 - val_output_loss: 1.0022 - val_auxilliary_output_1_loss: 0.9697 - val_auxilliary_output_2_loss: 0.9868 - val_output_accuracy: 0.5288 - val_auxilliary_output_1_accuracy: 0.5337 - val_auxilliary_output_2_accuracy: 0.5048\n",
            "Epoch 36/100\n",
            "\n",
            "Epoch 00036: LearningRateScheduler reducing learning rate to 0.0096.\n",
            "15/15 [==============================] - 184s 12s/step - loss: 1.5123 - output_loss: 0.9465 - auxilliary_output_1_loss: 0.9324 - auxilliary_output_2_loss: 0.9538 - output_accuracy: 0.5405 - auxilliary_output_1_accuracy: 0.5524 - auxilliary_output_2_accuracy: 0.5517 - val_loss: 1.4943 - val_output_loss: 0.9348 - val_auxilliary_output_1_loss: 0.9313 - val_auxilliary_output_2_loss: 0.9337 - val_output_accuracy: 0.5673 - val_auxilliary_output_1_accuracy: 0.5817 - val_auxilliary_output_2_accuracy: 0.5721\n",
            "Epoch 37/100\n",
            "\n",
            "Epoch 00037: LearningRateScheduler reducing learning rate to 0.0096.\n",
            "15/15 [==============================] - 185s 12s/step - loss: 1.4830 - output_loss: 0.9272 - auxilliary_output_1_loss: 0.9229 - auxilliary_output_2_loss: 0.9297 - output_accuracy: 0.5638 - auxilliary_output_1_accuracy: 0.5699 - auxilliary_output_2_accuracy: 0.5637 - val_loss: 1.7388 - val_output_loss: 1.1225 - val_auxilliary_output_1_loss: 1.0236 - val_auxilliary_output_2_loss: 1.0308 - val_output_accuracy: 0.3365 - val_auxilliary_output_1_accuracy: 0.4904 - val_auxilliary_output_2_accuracy: 0.4904\n",
            "Epoch 38/100\n",
            "\n",
            "Epoch 00038: LearningRateScheduler reducing learning rate to 0.0096.\n",
            "15/15 [==============================] - 185s 12s/step - loss: 1.6408 - output_loss: 1.0344 - auxilliary_output_1_loss: 1.0095 - auxilliary_output_2_loss: 1.0118 - output_accuracy: 0.4483 - auxilliary_output_1_accuracy: 0.4881 - auxilliary_output_2_accuracy: 0.4847 - val_loss: 1.5460 - val_output_loss: 0.9600 - val_auxilliary_output_1_loss: 0.9894 - val_auxilliary_output_2_loss: 0.9638 - val_output_accuracy: 0.5481 - val_auxilliary_output_1_accuracy: 0.5481 - val_auxilliary_output_2_accuracy: 0.5817\n",
            "Epoch 39/100\n",
            "\n",
            "Epoch 00039: LearningRateScheduler reducing learning rate to 0.0096.\n",
            "15/15 [==============================] - 184s 12s/step - loss: 1.4909 - output_loss: 0.9354 - auxilliary_output_1_loss: 0.9247 - auxilliary_output_2_loss: 0.9273 - output_accuracy: 0.5341 - auxilliary_output_1_accuracy: 0.5684 - auxilliary_output_2_accuracy: 0.5596 - val_loss: 1.5505 - val_output_loss: 0.9821 - val_auxilliary_output_1_loss: 0.9421 - val_auxilliary_output_2_loss: 0.9527 - val_output_accuracy: 0.5529 - val_auxilliary_output_1_accuracy: 0.5625 - val_auxilliary_output_2_accuracy: 0.5769\n",
            "Epoch 40/100\n",
            "\n",
            "Epoch 00040: LearningRateScheduler reducing learning rate to 0.0096.\n",
            "15/15 [==============================] - 184s 12s/step - loss: 1.5456 - output_loss: 0.9763 - auxilliary_output_1_loss: 0.9434 - auxilliary_output_2_loss: 0.9540 - output_accuracy: 0.5273 - auxilliary_output_1_accuracy: 0.5522 - auxilliary_output_2_accuracy: 0.5409 - val_loss: 1.5698 - val_output_loss: 0.9939 - val_auxilliary_output_1_loss: 0.9552 - val_auxilliary_output_2_loss: 0.9642 - val_output_accuracy: 0.5096 - val_auxilliary_output_1_accuracy: 0.5385 - val_auxilliary_output_2_accuracy: 0.5096\n",
            "Epoch 41/100\n",
            "\n",
            "Epoch 00041: LearningRateScheduler reducing learning rate to 0.0096.\n",
            "15/15 [==============================] - 184s 12s/step - loss: 1.4563 - output_loss: 0.9180 - auxilliary_output_1_loss: 0.8982 - auxilliary_output_2_loss: 0.8963 - output_accuracy: 0.5544 - auxilliary_output_1_accuracy: 0.5888 - auxilliary_output_2_accuracy: 0.5697 - val_loss: 1.4497 - val_output_loss: 0.9144 - val_auxilliary_output_1_loss: 0.8893 - val_auxilliary_output_2_loss: 0.8950 - val_output_accuracy: 0.5673 - val_auxilliary_output_1_accuracy: 0.6202 - val_auxilliary_output_2_accuracy: 0.6154\n",
            "Epoch 42/100\n",
            "\n",
            "Epoch 00042: LearningRateScheduler reducing learning rate to 0.0096.\n",
            "15/15 [==============================] - 184s 12s/step - loss: 1.4013 - output_loss: 0.8718 - auxilliary_output_1_loss: 0.8777 - auxilliary_output_2_loss: 0.8872 - output_accuracy: 0.5971 - auxilliary_output_1_accuracy: 0.6009 - auxilliary_output_2_accuracy: 0.6094 - val_loss: 1.4436 - val_output_loss: 0.9046 - val_auxilliary_output_1_loss: 0.9021 - val_auxilliary_output_2_loss: 0.8945 - val_output_accuracy: 0.6154 - val_auxilliary_output_1_accuracy: 0.5962 - val_auxilliary_output_2_accuracy: 0.6010\n",
            "Epoch 43/100\n",
            "\n",
            "Epoch 00043: LearningRateScheduler reducing learning rate to 0.0096.\n",
            "15/15 [==============================] - 185s 12s/step - loss: 1.4366 - output_loss: 0.8946 - auxilliary_output_1_loss: 0.9032 - auxilliary_output_2_loss: 0.9035 - output_accuracy: 0.5927 - auxilliary_output_1_accuracy: 0.5717 - auxilliary_output_2_accuracy: 0.5823 - val_loss: 1.5269 - val_output_loss: 0.9604 - val_auxilliary_output_1_loss: 0.9625 - val_auxilliary_output_2_loss: 0.9256 - val_output_accuracy: 0.5337 - val_auxilliary_output_1_accuracy: 0.5433 - val_auxilliary_output_2_accuracy: 0.5865\n",
            "Epoch 44/100\n",
            "\n",
            "Epoch 00044: LearningRateScheduler reducing learning rate to 0.0096.\n",
            "15/15 [==============================] - 185s 12s/step - loss: 1.4266 - output_loss: 0.8964 - auxilliary_output_1_loss: 0.8796 - auxilliary_output_2_loss: 0.8877 - output_accuracy: 0.5830 - auxilliary_output_1_accuracy: 0.5865 - auxilliary_output_2_accuracy: 0.5889 - val_loss: 1.6881 - val_output_loss: 1.0571 - val_auxilliary_output_1_loss: 1.0315 - val_auxilliary_output_2_loss: 1.0717 - val_output_accuracy: 0.5096 - val_auxilliary_output_1_accuracy: 0.4856 - val_auxilliary_output_2_accuracy: 0.4712\n",
            "Epoch 45/100\n",
            "\n",
            "Epoch 00045: LearningRateScheduler reducing learning rate to 0.0096.\n",
            "15/15 [==============================] - 184s 12s/step - loss: 1.4293 - output_loss: 0.8906 - auxilliary_output_1_loss: 0.8966 - auxilliary_output_2_loss: 0.8990 - output_accuracy: 0.5894 - auxilliary_output_1_accuracy: 0.5668 - auxilliary_output_2_accuracy: 0.5913 - val_loss: 1.3911 - val_output_loss: 0.8693 - val_auxilliary_output_1_loss: 0.8754 - val_auxilliary_output_2_loss: 0.8640 - val_output_accuracy: 0.6250 - val_auxilliary_output_1_accuracy: 0.6106 - val_auxilliary_output_2_accuracy: 0.6346\n",
            "Epoch 46/100\n",
            "\n",
            "Epoch 00046: LearningRateScheduler reducing learning rate to 0.0096.\n",
            "15/15 [==============================] - 185s 12s/step - loss: 1.3519 - output_loss: 0.8444 - auxilliary_output_1_loss: 0.8486 - auxilliary_output_2_loss: 0.8432 - output_accuracy: 0.6473 - auxilliary_output_1_accuracy: 0.6373 - auxilliary_output_2_accuracy: 0.6275 - val_loss: 1.5584 - val_output_loss: 0.9788 - val_auxilliary_output_1_loss: 0.9639 - val_auxilliary_output_2_loss: 0.9679 - val_output_accuracy: 0.5192 - val_auxilliary_output_1_accuracy: 0.5337 - val_auxilliary_output_2_accuracy: 0.5192\n",
            "Epoch 47/100\n",
            "\n",
            "Epoch 00047: LearningRateScheduler reducing learning rate to 0.0096.\n",
            "15/15 [==============================] - 189s 13s/step - loss: 1.4040 - output_loss: 0.8847 - auxilliary_output_1_loss: 0.8651 - auxilliary_output_2_loss: 0.8658 - output_accuracy: 0.6055 - auxilliary_output_1_accuracy: 0.6054 - auxilliary_output_2_accuracy: 0.6043 - val_loss: 1.5062 - val_output_loss: 0.9416 - val_auxilliary_output_1_loss: 0.9432 - val_auxilliary_output_2_loss: 0.9388 - val_output_accuracy: 0.5481 - val_auxilliary_output_1_accuracy: 0.5625 - val_auxilliary_output_2_accuracy: 0.5529\n",
            "Epoch 48/100\n",
            "\n",
            "Epoch 00048: LearningRateScheduler reducing learning rate to 0.0096.\n",
            "15/15 [==============================] - 187s 12s/step - loss: 1.5124 - output_loss: 0.9521 - auxilliary_output_1_loss: 0.9254 - auxilliary_output_2_loss: 0.9424 - output_accuracy: 0.5224 - auxilliary_output_1_accuracy: 0.5525 - auxilliary_output_2_accuracy: 0.5375 - val_loss: 1.4557 - val_output_loss: 0.9150 - val_auxilliary_output_1_loss: 0.8997 - val_auxilliary_output_2_loss: 0.9025 - val_output_accuracy: 0.6250 - val_auxilliary_output_1_accuracy: 0.6202 - val_auxilliary_output_2_accuracy: 0.6442\n",
            "Epoch 49/100\n",
            "\n",
            "Epoch 00049: LearningRateScheduler reducing learning rate to 0.0096.\n",
            "15/15 [==============================] - 186s 12s/step - loss: 1.3844 - output_loss: 0.8655 - auxilliary_output_1_loss: 0.8651 - auxilliary_output_2_loss: 0.8646 - output_accuracy: 0.6127 - auxilliary_output_1_accuracy: 0.6000 - auxilliary_output_2_accuracy: 0.6120 - val_loss: 1.4785 - val_output_loss: 0.9283 - val_auxilliary_output_1_loss: 0.9226 - val_auxilliary_output_2_loss: 0.9115 - val_output_accuracy: 0.5481 - val_auxilliary_output_1_accuracy: 0.5433 - val_auxilliary_output_2_accuracy: 0.5673\n",
            "Epoch 50/100\n",
            "\n",
            "Epoch 00050: LearningRateScheduler reducing learning rate to 0.0096.\n",
            "15/15 [==============================] - 185s 12s/step - loss: 1.3055 - output_loss: 0.8151 - auxilliary_output_1_loss: 0.8124 - auxilliary_output_2_loss: 0.8223 - output_accuracy: 0.6181 - auxilliary_output_1_accuracy: 0.6333 - auxilliary_output_2_accuracy: 0.6323 - val_loss: 1.4133 - val_output_loss: 0.8828 - val_auxilliary_output_1_loss: 0.8944 - val_auxilliary_output_2_loss: 0.8741 - val_output_accuracy: 0.5962 - val_auxilliary_output_1_accuracy: 0.6202 - val_auxilliary_output_2_accuracy: 0.6154\n",
            "Epoch 51/100\n",
            "\n",
            "Epoch 00051: LearningRateScheduler reducing learning rate to 0.0096.\n",
            "15/15 [==============================] - 185s 12s/step - loss: 1.3013 - output_loss: 0.8153 - auxilliary_output_1_loss: 0.8123 - auxilliary_output_2_loss: 0.8079 - output_accuracy: 0.6246 - auxilliary_output_1_accuracy: 0.6399 - auxilliary_output_2_accuracy: 0.6167 - val_loss: 1.3869 - val_output_loss: 0.8683 - val_auxilliary_output_1_loss: 0.8728 - val_auxilliary_output_2_loss: 0.8559 - val_output_accuracy: 0.6154 - val_auxilliary_output_1_accuracy: 0.6298 - val_auxilliary_output_2_accuracy: 0.6346\n",
            "Epoch 52/100\n",
            "\n",
            "Epoch 00052: LearningRateScheduler reducing learning rate to 0.0096.\n",
            "15/15 [==============================] - 184s 12s/step - loss: 1.3274 - output_loss: 0.8320 - auxilliary_output_1_loss: 0.8266 - auxilliary_output_2_loss: 0.8246 - output_accuracy: 0.6196 - auxilliary_output_1_accuracy: 0.6105 - auxilliary_output_2_accuracy: 0.6119 - val_loss: 1.4242 - val_output_loss: 0.9002 - val_auxilliary_output_1_loss: 0.8702 - val_auxilliary_output_2_loss: 0.8765 - val_output_accuracy: 0.6154 - val_auxilliary_output_1_accuracy: 0.6346 - val_auxilliary_output_2_accuracy: 0.6154\n",
            "Epoch 53/100\n",
            "\n",
            "Epoch 00053: LearningRateScheduler reducing learning rate to 0.0096.\n",
            "15/15 [==============================] - 184s 12s/step - loss: 1.2843 - output_loss: 0.8053 - auxilliary_output_1_loss: 0.7934 - auxilliary_output_2_loss: 0.8033 - output_accuracy: 0.6597 - auxilliary_output_1_accuracy: 0.6555 - auxilliary_output_2_accuracy: 0.6528 - val_loss: 1.3540 - val_output_loss: 0.8429 - val_auxilliary_output_1_loss: 0.8616 - val_auxilliary_output_2_loss: 0.8422 - val_output_accuracy: 0.6490 - val_auxilliary_output_1_accuracy: 0.6394 - val_auxilliary_output_2_accuracy: 0.6587\n",
            "Epoch 54/100\n",
            "\n",
            "Epoch 00054: LearningRateScheduler reducing learning rate to 0.0096.\n",
            "15/15 [==============================] - 185s 12s/step - loss: 1.4079 - output_loss: 0.8884 - auxilliary_output_1_loss: 0.8635 - auxilliary_output_2_loss: 0.8680 - output_accuracy: 0.6088 - auxilliary_output_1_accuracy: 0.5995 - auxilliary_output_2_accuracy: 0.6240 - val_loss: 1.4710 - val_output_loss: 0.9208 - val_auxilliary_output_1_loss: 0.9268 - val_auxilliary_output_2_loss: 0.9073 - val_output_accuracy: 0.6490 - val_auxilliary_output_1_accuracy: 0.5721 - val_auxilliary_output_2_accuracy: 0.6346\n",
            "Epoch 55/100\n",
            "\n",
            "Epoch 00055: LearningRateScheduler reducing learning rate to 0.0096.\n",
            "15/15 [==============================] - 184s 12s/step - loss: 1.4633 - output_loss: 0.9293 - auxilliary_output_1_loss: 0.8803 - auxilliary_output_2_loss: 0.8997 - output_accuracy: 0.5683 - auxilliary_output_1_accuracy: 0.5979 - auxilliary_output_2_accuracy: 0.5876 - val_loss: 1.4947 - val_output_loss: 0.9647 - val_auxilliary_output_1_loss: 0.8608 - val_auxilliary_output_2_loss: 0.9058 - val_output_accuracy: 0.5481 - val_auxilliary_output_1_accuracy: 0.6394 - val_auxilliary_output_2_accuracy: 0.6154\n",
            "Epoch 56/100\n",
            "\n",
            "Epoch 00056: LearningRateScheduler reducing learning rate to 0.0096.\n",
            "15/15 [==============================] - 184s 12s/step - loss: 1.3771 - output_loss: 0.8724 - auxilliary_output_1_loss: 0.8355 - auxilliary_output_2_loss: 0.8467 - output_accuracy: 0.6043 - auxilliary_output_1_accuracy: 0.6340 - auxilliary_output_2_accuracy: 0.6074 - val_loss: 1.4641 - val_output_loss: 0.9175 - val_auxilliary_output_1_loss: 0.9132 - val_auxilliary_output_2_loss: 0.9089 - val_output_accuracy: 0.5481 - val_auxilliary_output_1_accuracy: 0.5577 - val_auxilliary_output_2_accuracy: 0.5673\n",
            "Epoch 57/100\n",
            "\n",
            "Epoch 00057: LearningRateScheduler reducing learning rate to 0.0096.\n",
            "15/15 [==============================] - 185s 12s/step - loss: 1.3880 - output_loss: 0.8673 - auxilliary_output_1_loss: 0.8649 - auxilliary_output_2_loss: 0.8706 - output_accuracy: 0.6082 - auxilliary_output_1_accuracy: 0.6011 - auxilliary_output_2_accuracy: 0.6047 - val_loss: 1.4698 - val_output_loss: 0.9059 - val_auxilliary_output_1_loss: 0.9551 - val_auxilliary_output_2_loss: 0.9244 - val_output_accuracy: 0.5769 - val_auxilliary_output_1_accuracy: 0.5337 - val_auxilliary_output_2_accuracy: 0.5577\n",
            "Epoch 58/100\n",
            "\n",
            "Epoch 00058: LearningRateScheduler reducing learning rate to 0.0096.\n",
            "15/15 [==============================] - 184s 12s/step - loss: 1.3413 - output_loss: 0.8360 - auxilliary_output_1_loss: 0.8462 - auxilliary_output_2_loss: 0.8380 - output_accuracy: 0.6212 - auxilliary_output_1_accuracy: 0.6198 - auxilliary_output_2_accuracy: 0.6219 - val_loss: 1.3595 - val_output_loss: 0.8536 - val_auxilliary_output_1_loss: 0.8489 - val_auxilliary_output_2_loss: 0.8374 - val_output_accuracy: 0.6346 - val_auxilliary_output_1_accuracy: 0.6298 - val_auxilliary_output_2_accuracy: 0.6490\n",
            "Epoch 59/100\n",
            "\n",
            "Epoch 00059: LearningRateScheduler reducing learning rate to 0.0096.\n",
            "15/15 [==============================] - 184s 12s/step - loss: 1.2670 - output_loss: 0.7972 - auxilliary_output_1_loss: 0.7781 - auxilliary_output_2_loss: 0.7877 - output_accuracy: 0.6476 - auxilliary_output_1_accuracy: 0.6508 - auxilliary_output_2_accuracy: 0.6405 - val_loss: 1.3543 - val_output_loss: 0.8465 - val_auxilliary_output_1_loss: 0.8588 - val_auxilliary_output_2_loss: 0.8341 - val_output_accuracy: 0.6058 - val_auxilliary_output_1_accuracy: 0.6298 - val_auxilliary_output_2_accuracy: 0.6202\n",
            "Epoch 60/100\n",
            "\n",
            "Epoch 00060: LearningRateScheduler reducing learning rate to 0.0096.\n",
            "15/15 [==============================] - 185s 12s/step - loss: 1.2972 - output_loss: 0.8069 - auxilliary_output_1_loss: 0.8258 - auxilliary_output_2_loss: 0.8084 - output_accuracy: 0.6560 - auxilliary_output_1_accuracy: 0.6297 - auxilliary_output_2_accuracy: 0.6361 - val_loss: 1.3893 - val_output_loss: 0.8762 - val_auxilliary_output_1_loss: 0.8589 - val_auxilliary_output_2_loss: 0.8515 - val_output_accuracy: 0.6058 - val_auxilliary_output_1_accuracy: 0.6058 - val_auxilliary_output_2_accuracy: 0.6106\n",
            "Epoch 61/100\n",
            "\n",
            "Epoch 00061: LearningRateScheduler reducing learning rate to 0.0096.\n",
            "15/15 [==============================] - 185s 12s/step - loss: 1.2406 - output_loss: 0.7738 - auxilliary_output_1_loss: 0.7762 - auxilliary_output_2_loss: 0.7800 - output_accuracy: 0.6573 - auxilliary_output_1_accuracy: 0.6555 - auxilliary_output_2_accuracy: 0.6461 - val_loss: 1.4507 - val_output_loss: 0.9248 - val_auxilliary_output_1_loss: 0.8861 - val_auxilliary_output_2_loss: 0.8669 - val_output_accuracy: 0.5817 - val_auxilliary_output_1_accuracy: 0.6058 - val_auxilliary_output_2_accuracy: 0.6154\n",
            "Epoch 62/100\n",
            "\n",
            "Epoch 00062: LearningRateScheduler reducing learning rate to 0.0096.\n",
            "15/15 [==============================] - 185s 12s/step - loss: 1.3574 - output_loss: 0.8576 - auxilliary_output_1_loss: 0.8364 - auxilliary_output_2_loss: 0.8299 - output_accuracy: 0.6167 - auxilliary_output_1_accuracy: 0.6201 - auxilliary_output_2_accuracy: 0.6383 - val_loss: 1.3069 - val_output_loss: 0.8179 - val_auxilliary_output_1_loss: 0.8236 - val_auxilliary_output_2_loss: 0.8065 - val_output_accuracy: 0.6538 - val_auxilliary_output_1_accuracy: 0.6587 - val_auxilliary_output_2_accuracy: 0.6538\n",
            "Epoch 63/100\n",
            "\n",
            "Epoch 00063: LearningRateScheduler reducing learning rate to 0.0096.\n",
            "15/15 [==============================] - 187s 12s/step - loss: 1.2184 - output_loss: 0.7630 - auxilliary_output_1_loss: 0.7586 - auxilliary_output_2_loss: 0.7593 - output_accuracy: 0.6668 - auxilliary_output_1_accuracy: 0.6506 - auxilliary_output_2_accuracy: 0.6644 - val_loss: 1.4032 - val_output_loss: 0.8945 - val_auxilliary_output_1_loss: 0.8521 - val_auxilliary_output_2_loss: 0.8434 - val_output_accuracy: 0.5625 - val_auxilliary_output_1_accuracy: 0.6202 - val_auxilliary_output_2_accuracy: 0.6538\n",
            "Epoch 64/100\n",
            "\n",
            "Epoch 00064: LearningRateScheduler reducing learning rate to 0.009216.\n",
            "15/15 [==============================] - 188s 13s/step - loss: 1.3195 - output_loss: 0.8299 - auxilliary_output_1_loss: 0.8059 - auxilliary_output_2_loss: 0.8260 - output_accuracy: 0.6305 - auxilliary_output_1_accuracy: 0.6393 - auxilliary_output_2_accuracy: 0.6274 - val_loss: 1.3566 - val_output_loss: 0.8454 - val_auxilliary_output_1_loss: 0.8601 - val_auxilliary_output_2_loss: 0.8437 - val_output_accuracy: 0.6154 - val_auxilliary_output_1_accuracy: 0.6250 - val_auxilliary_output_2_accuracy: 0.6250\n",
            "Epoch 65/100\n",
            "\n",
            "Epoch 00065: LearningRateScheduler reducing learning rate to 0.009216.\n",
            "15/15 [==============================] - 186s 12s/step - loss: 1.2806 - output_loss: 0.8036 - auxilliary_output_1_loss: 0.7955 - auxilliary_output_2_loss: 0.7947 - output_accuracy: 0.6486 - auxilliary_output_1_accuracy: 0.6449 - auxilliary_output_2_accuracy: 0.6448 - val_loss: 1.3335 - val_output_loss: 0.8246 - val_auxilliary_output_1_loss: 0.8559 - val_auxilliary_output_2_loss: 0.8403 - val_output_accuracy: 0.6538 - val_auxilliary_output_1_accuracy: 0.6058 - val_auxilliary_output_2_accuracy: 0.6394\n",
            "Epoch 66/100\n",
            "\n",
            "Epoch 00066: LearningRateScheduler reducing learning rate to 0.009216.\n",
            "15/15 [==============================] - 187s 12s/step - loss: 1.1735 - output_loss: 0.7333 - auxilliary_output_1_loss: 0.7374 - auxilliary_output_2_loss: 0.7301 - output_accuracy: 0.6920 - auxilliary_output_1_accuracy: 0.6803 - auxilliary_output_2_accuracy: 0.6763 - val_loss: 1.4192 - val_output_loss: 0.9146 - val_auxilliary_output_1_loss: 0.8575 - val_auxilliary_output_2_loss: 0.8247 - val_output_accuracy: 0.6154 - val_auxilliary_output_1_accuracy: 0.6106 - val_auxilliary_output_2_accuracy: 0.6250\n",
            "Epoch 67/100\n",
            "\n",
            "Epoch 00067: LearningRateScheduler reducing learning rate to 0.009216.\n",
            "15/15 [==============================] - 185s 12s/step - loss: 1.2411 - output_loss: 0.7768 - auxilliary_output_1_loss: 0.7762 - auxilliary_output_2_loss: 0.7717 - output_accuracy: 0.6403 - auxilliary_output_1_accuracy: 0.6533 - auxilliary_output_2_accuracy: 0.6515 - val_loss: 1.3334 - val_output_loss: 0.8338 - val_auxilliary_output_1_loss: 0.8321 - val_auxilliary_output_2_loss: 0.8332 - val_output_accuracy: 0.6538 - val_auxilliary_output_1_accuracy: 0.6538 - val_auxilliary_output_2_accuracy: 0.6346\n",
            "Epoch 68/100\n",
            "\n",
            "Epoch 00068: LearningRateScheduler reducing learning rate to 0.009216.\n",
            "15/15 [==============================] - 185s 12s/step - loss: 1.1384 - output_loss: 0.7055 - auxilliary_output_1_loss: 0.7263 - auxilliary_output_2_loss: 0.7166 - output_accuracy: 0.7040 - auxilliary_output_1_accuracy: 0.6858 - auxilliary_output_2_accuracy: 0.6895 - val_loss: 1.3043 - val_output_loss: 0.8052 - val_auxilliary_output_1_loss: 0.8358 - val_auxilliary_output_2_loss: 0.8278 - val_output_accuracy: 0.6875 - val_auxilliary_output_1_accuracy: 0.6442 - val_auxilliary_output_2_accuracy: 0.6490\n",
            "Epoch 69/100\n",
            "\n",
            "Epoch 00069: LearningRateScheduler reducing learning rate to 0.009216.\n",
            "15/15 [==============================] - 187s 12s/step - loss: 1.1750 - output_loss: 0.7318 - auxilliary_output_1_loss: 0.7426 - auxilliary_output_2_loss: 0.7347 - output_accuracy: 0.6817 - auxilliary_output_1_accuracy: 0.6690 - auxilliary_output_2_accuracy: 0.6727 - val_loss: 1.2856 - val_output_loss: 0.7948 - val_auxilliary_output_1_loss: 0.8286 - val_auxilliary_output_2_loss: 0.8075 - val_output_accuracy: 0.6635 - val_auxilliary_output_1_accuracy: 0.6394 - val_auxilliary_output_2_accuracy: 0.6538\n",
            "Epoch 70/100\n",
            "\n",
            "Epoch 00070: LearningRateScheduler reducing learning rate to 0.009216.\n",
            "15/15 [==============================] - 186s 12s/step - loss: 1.1516 - output_loss: 0.7146 - auxilliary_output_1_loss: 0.7371 - auxilliary_output_2_loss: 0.7197 - output_accuracy: 0.6909 - auxilliary_output_1_accuracy: 0.6797 - auxilliary_output_2_accuracy: 0.6941 - val_loss: 1.5402 - val_output_loss: 0.9579 - val_auxilliary_output_1_loss: 0.9512 - val_auxilliary_output_2_loss: 0.9899 - val_output_accuracy: 0.6010 - val_auxilliary_output_1_accuracy: 0.5721 - val_auxilliary_output_2_accuracy: 0.5577\n",
            "Epoch 71/100\n",
            "\n",
            "Epoch 00071: LearningRateScheduler reducing learning rate to 0.009216.\n",
            "15/15 [==============================] - 186s 12s/step - loss: 1.1900 - output_loss: 0.7405 - auxilliary_output_1_loss: 0.7495 - auxilliary_output_2_loss: 0.7489 - output_accuracy: 0.6751 - auxilliary_output_1_accuracy: 0.6657 - auxilliary_output_2_accuracy: 0.6768 - val_loss: 1.2635 - val_output_loss: 0.7869 - val_auxilliary_output_1_loss: 0.8016 - val_auxilliary_output_2_loss: 0.7872 - val_output_accuracy: 0.6827 - val_auxilliary_output_1_accuracy: 0.6635 - val_auxilliary_output_2_accuracy: 0.6923\n",
            "Epoch 72/100\n",
            "\n",
            "Epoch 00072: LearningRateScheduler reducing learning rate to 0.009216.\n",
            "15/15 [==============================] - 185s 12s/step - loss: 1.1616 - output_loss: 0.7268 - auxilliary_output_1_loss: 0.7207 - auxilliary_output_2_loss: 0.7287 - output_accuracy: 0.6816 - auxilliary_output_1_accuracy: 0.6873 - auxilliary_output_2_accuracy: 0.6844 - val_loss: 1.5078 - val_output_loss: 0.9646 - val_auxilliary_output_1_loss: 0.8977 - val_auxilliary_output_2_loss: 0.9129 - val_output_accuracy: 0.5529 - val_auxilliary_output_1_accuracy: 0.6442 - val_auxilliary_output_2_accuracy: 0.6154\n",
            "Epoch 73/100\n",
            "\n",
            "Epoch 00073: LearningRateScheduler reducing learning rate to 0.009216.\n",
            "15/15 [==============================] - 186s 12s/step - loss: 1.2580 - output_loss: 0.7955 - auxilliary_output_1_loss: 0.7733 - auxilliary_output_2_loss: 0.7685 - output_accuracy: 0.6516 - auxilliary_output_1_accuracy: 0.6511 - auxilliary_output_2_accuracy: 0.6561 - val_loss: 1.3687 - val_output_loss: 0.8568 - val_auxilliary_output_1_loss: 0.8664 - val_auxilliary_output_2_loss: 0.8401 - val_output_accuracy: 0.6154 - val_auxilliary_output_1_accuracy: 0.5865 - val_auxilliary_output_2_accuracy: 0.6154\n",
            "Epoch 74/100\n",
            "\n",
            "Epoch 00074: LearningRateScheduler reducing learning rate to 0.009216.\n",
            "15/15 [==============================] - 185s 12s/step - loss: 1.1461 - output_loss: 0.7171 - auxilliary_output_1_loss: 0.7177 - auxilliary_output_2_loss: 0.7122 - output_accuracy: 0.6873 - auxilliary_output_1_accuracy: 0.6843 - auxilliary_output_2_accuracy: 0.6858 - val_loss: 1.2939 - val_output_loss: 0.8077 - val_auxilliary_output_1_loss: 0.8181 - val_auxilliary_output_2_loss: 0.8026 - val_output_accuracy: 0.6827 - val_auxilliary_output_1_accuracy: 0.6490 - val_auxilliary_output_2_accuracy: 0.6394\n",
            "Epoch 75/100\n",
            "\n",
            "Epoch 00075: LearningRateScheduler reducing learning rate to 0.009216.\n",
            "15/15 [==============================] - 188s 13s/step - loss: 1.1131 - output_loss: 0.6895 - auxilliary_output_1_loss: 0.7097 - auxilliary_output_2_loss: 0.7026 - output_accuracy: 0.7025 - auxilliary_output_1_accuracy: 0.6921 - auxilliary_output_2_accuracy: 0.6956 - val_loss: 1.2910 - val_output_loss: 0.8071 - val_auxilliary_output_1_loss: 0.8069 - val_auxilliary_output_2_loss: 0.8062 - val_output_accuracy: 0.6538 - val_auxilliary_output_1_accuracy: 0.6635 - val_auxilliary_output_2_accuracy: 0.6538\n",
            "Epoch 76/100\n",
            "\n",
            "Epoch 00076: LearningRateScheduler reducing learning rate to 0.009216.\n",
            "15/15 [==============================] - 187s 12s/step - loss: 1.1805 - output_loss: 0.7354 - auxilliary_output_1_loss: 0.7400 - auxilliary_output_2_loss: 0.7439 - output_accuracy: 0.6766 - auxilliary_output_1_accuracy: 0.6860 - auxilliary_output_2_accuracy: 0.6777 - val_loss: 1.2635 - val_output_loss: 0.7843 - val_auxilliary_output_1_loss: 0.8013 - val_auxilliary_output_2_loss: 0.7960 - val_output_accuracy: 0.6827 - val_auxilliary_output_1_accuracy: 0.6587 - val_auxilliary_output_2_accuracy: 0.6635\n",
            "Epoch 77/100\n",
            "\n",
            "Epoch 00077: LearningRateScheduler reducing learning rate to 0.009216.\n",
            "15/15 [==============================] - 187s 12s/step - loss: 1.0900 - output_loss: 0.6754 - auxilliary_output_1_loss: 0.6893 - auxilliary_output_2_loss: 0.6926 - output_accuracy: 0.7139 - auxilliary_output_1_accuracy: 0.7049 - auxilliary_output_2_accuracy: 0.7112 - val_loss: 1.2691 - val_output_loss: 0.7936 - val_auxilliary_output_1_loss: 0.8035 - val_auxilliary_output_2_loss: 0.7817 - val_output_accuracy: 0.6731 - val_auxilliary_output_1_accuracy: 0.6538 - val_auxilliary_output_2_accuracy: 0.6587\n",
            "Epoch 78/100\n",
            "\n",
            "Epoch 00078: LearningRateScheduler reducing learning rate to 0.009216.\n",
            "15/15 [==============================] - 187s 12s/step - loss: 1.0453 - output_loss: 0.6467 - auxilliary_output_1_loss: 0.6712 - auxilliary_output_2_loss: 0.6576 - output_accuracy: 0.7196 - auxilliary_output_1_accuracy: 0.7101 - auxilliary_output_2_accuracy: 0.7179 - val_loss: 1.2220 - val_output_loss: 0.7542 - val_auxilliary_output_1_loss: 0.7922 - val_auxilliary_output_2_loss: 0.7671 - val_output_accuracy: 0.7067 - val_auxilliary_output_1_accuracy: 0.6731 - val_auxilliary_output_2_accuracy: 0.6923\n",
            "Epoch 79/100\n",
            "\n",
            "Epoch 00079: LearningRateScheduler reducing learning rate to 0.009216.\n",
            "15/15 [==============================] - 188s 13s/step - loss: 1.0817 - output_loss: 0.6675 - auxilliary_output_1_loss: 0.6945 - auxilliary_output_2_loss: 0.6865 - output_accuracy: 0.7184 - auxilliary_output_1_accuracy: 0.7000 - auxilliary_output_2_accuracy: 0.7006 - val_loss: 1.2395 - val_output_loss: 0.7667 - val_auxilliary_output_1_loss: 0.7990 - val_auxilliary_output_2_loss: 0.7770 - val_output_accuracy: 0.6587 - val_auxilliary_output_1_accuracy: 0.6442 - val_auxilliary_output_2_accuracy: 0.6346\n",
            "Epoch 80/100\n",
            "\n",
            "Epoch 00080: LearningRateScheduler reducing learning rate to 0.009216.\n",
            "15/15 [==============================] - 188s 13s/step - loss: 1.0618 - output_loss: 0.6516 - auxilliary_output_1_loss: 0.6899 - auxilliary_output_2_loss: 0.6773 - output_accuracy: 0.7244 - auxilliary_output_1_accuracy: 0.6935 - auxilliary_output_2_accuracy: 0.7084 - val_loss: 1.2525 - val_output_loss: 0.7799 - val_auxilliary_output_1_loss: 0.7986 - val_auxilliary_output_2_loss: 0.7767 - val_output_accuracy: 0.6923 - val_auxilliary_output_1_accuracy: 0.6394 - val_auxilliary_output_2_accuracy: 0.6875\n",
            "Epoch 81/100\n",
            "\n",
            "Epoch 00081: LearningRateScheduler reducing learning rate to 0.009216.\n",
            "15/15 [==============================] - 187s 12s/step - loss: 1.0279 - output_loss: 0.6265 - auxilliary_output_1_loss: 0.6865 - auxilliary_output_2_loss: 0.6514 - output_accuracy: 0.7435 - auxilliary_output_1_accuracy: 0.7080 - auxilliary_output_2_accuracy: 0.7251 - val_loss: 1.6567 - val_output_loss: 1.1000 - val_auxilliary_output_1_loss: 0.8820 - val_auxilliary_output_2_loss: 0.9738 - val_output_accuracy: 0.5962 - val_auxilliary_output_1_accuracy: 0.6298 - val_auxilliary_output_2_accuracy: 0.6202\n",
            "Epoch 82/100\n",
            "\n",
            "Epoch 00082: LearningRateScheduler reducing learning rate to 0.009216.\n",
            "15/15 [==============================] - 186s 12s/step - loss: 1.1954 - output_loss: 0.7508 - auxilliary_output_1_loss: 0.7326 - auxilliary_output_2_loss: 0.7492 - output_accuracy: 0.6697 - auxilliary_output_1_accuracy: 0.6563 - auxilliary_output_2_accuracy: 0.6690 - val_loss: 1.3167 - val_output_loss: 0.8301 - val_auxilliary_output_1_loss: 0.8024 - val_auxilliary_output_2_loss: 0.8194 - val_output_accuracy: 0.6250 - val_auxilliary_output_1_accuracy: 0.6635 - val_auxilliary_output_2_accuracy: 0.6346\n",
            "Epoch 83/100\n",
            "\n",
            "Epoch 00083: LearningRateScheduler reducing learning rate to 0.009216.\n",
            "15/15 [==============================] - 188s 13s/step - loss: 1.0420 - output_loss: 0.6475 - auxilliary_output_1_loss: 0.6562 - auxilliary_output_2_loss: 0.6588 - output_accuracy: 0.7222 - auxilliary_output_1_accuracy: 0.7201 - auxilliary_output_2_accuracy: 0.7214 - val_loss: 1.3563 - val_output_loss: 0.8572 - val_auxilliary_output_1_loss: 0.8434 - val_auxilliary_output_2_loss: 0.8204 - val_output_accuracy: 0.6250 - val_auxilliary_output_1_accuracy: 0.6058 - val_auxilliary_output_2_accuracy: 0.6202\n",
            "Epoch 84/100\n",
            "\n",
            "Epoch 00084: LearningRateScheduler reducing learning rate to 0.009216.\n",
            "15/15 [==============================] - 187s 12s/step - loss: 0.9993 - output_loss: 0.6133 - auxilliary_output_1_loss: 0.6547 - auxilliary_output_2_loss: 0.6321 - output_accuracy: 0.7470 - auxilliary_output_1_accuracy: 0.7185 - auxilliary_output_2_accuracy: 0.7277 - val_loss: 1.3780 - val_output_loss: 0.8582 - val_auxilliary_output_1_loss: 0.8684 - val_auxilliary_output_2_loss: 0.8645 - val_output_accuracy: 0.6731 - val_auxilliary_output_1_accuracy: 0.6250 - val_auxilliary_output_2_accuracy: 0.6298\n",
            "Epoch 85/100\n",
            "\n",
            "Epoch 00085: LearningRateScheduler reducing learning rate to 0.009216.\n",
            "15/15 [==============================] - 188s 13s/step - loss: 0.9683 - output_loss: 0.5900 - auxilliary_output_1_loss: 0.6468 - auxilliary_output_2_loss: 0.6141 - output_accuracy: 0.7624 - auxilliary_output_1_accuracy: 0.7229 - auxilliary_output_2_accuracy: 0.7401 - val_loss: 1.3844 - val_output_loss: 0.8713 - val_auxilliary_output_1_loss: 0.8368 - val_auxilliary_output_2_loss: 0.8733 - val_output_accuracy: 0.6106 - val_auxilliary_output_1_accuracy: 0.5913 - val_auxilliary_output_2_accuracy: 0.5913\n",
            "Epoch 86/100\n",
            "\n",
            "Epoch 00086: LearningRateScheduler reducing learning rate to 0.009216.\n",
            "15/15 [==============================] - 188s 13s/step - loss: 1.0414 - output_loss: 0.6376 - auxilliary_output_1_loss: 0.6879 - auxilliary_output_2_loss: 0.6581 - output_accuracy: 0.7311 - auxilliary_output_1_accuracy: 0.7000 - auxilliary_output_2_accuracy: 0.7160 - val_loss: 1.4389 - val_output_loss: 0.8582 - val_auxilliary_output_1_loss: 1.0328 - val_auxilliary_output_2_loss: 0.9030 - val_output_accuracy: 0.6154 - val_auxilliary_output_1_accuracy: 0.5673 - val_auxilliary_output_2_accuracy: 0.6202\n",
            "Epoch 87/100\n",
            "\n",
            "Epoch 00087: LearningRateScheduler reducing learning rate to 0.009216.\n",
            "15/15 [==============================] - 187s 12s/step - loss: 1.2091 - output_loss: 0.7355 - auxilliary_output_1_loss: 0.8200 - auxilliary_output_2_loss: 0.7589 - output_accuracy: 0.6752 - auxilliary_output_1_accuracy: 0.6280 - auxilliary_output_2_accuracy: 0.6576 - val_loss: 1.2411 - val_output_loss: 0.7737 - val_auxilliary_output_1_loss: 0.7887 - val_auxilliary_output_2_loss: 0.7694 - val_output_accuracy: 0.6442 - val_auxilliary_output_1_accuracy: 0.6731 - val_auxilliary_output_2_accuracy: 0.7019\n",
            "Epoch 88/100\n",
            "\n",
            "Epoch 00088: LearningRateScheduler reducing learning rate to 0.009216.\n",
            "15/15 [==============================] - 187s 12s/step - loss: 1.1024 - output_loss: 0.6779 - auxilliary_output_1_loss: 0.7132 - auxilliary_output_2_loss: 0.7017 - output_accuracy: 0.7201 - auxilliary_output_1_accuracy: 0.7184 - auxilliary_output_2_accuracy: 0.7086 - val_loss: 1.2215 - val_output_loss: 0.7634 - val_auxilliary_output_1_loss: 0.7822 - val_auxilliary_output_2_loss: 0.7451 - val_output_accuracy: 0.6442 - val_auxilliary_output_1_accuracy: 0.6394 - val_auxilliary_output_2_accuracy: 0.6538\n",
            "Epoch 89/100\n",
            "\n",
            "Epoch 00089: LearningRateScheduler reducing learning rate to 0.009216.\n",
            "15/15 [==============================] - 187s 12s/step - loss: 1.0028 - output_loss: 0.6170 - auxilliary_output_1_loss: 0.6669 - auxilliary_output_2_loss: 0.6190 - output_accuracy: 0.7506 - auxilliary_output_1_accuracy: 0.7168 - auxilliary_output_2_accuracy: 0.7435 - val_loss: 1.1763 - val_output_loss: 0.7269 - val_auxilliary_output_1_loss: 0.7628 - val_auxilliary_output_2_loss: 0.7352 - val_output_accuracy: 0.6971 - val_auxilliary_output_1_accuracy: 0.6587 - val_auxilliary_output_2_accuracy: 0.6538\n",
            "Epoch 90/100\n",
            "\n",
            "Epoch 00090: LearningRateScheduler reducing learning rate to 0.009216.\n",
            "15/15 [==============================] - 188s 13s/step - loss: 0.9421 - output_loss: 0.5753 - auxilliary_output_1_loss: 0.6296 - auxilliary_output_2_loss: 0.5933 - output_accuracy: 0.7587 - auxilliary_output_1_accuracy: 0.7351 - auxilliary_output_2_accuracy: 0.7595 - val_loss: 1.2131 - val_output_loss: 0.7443 - val_auxilliary_output_1_loss: 0.7791 - val_auxilliary_output_2_loss: 0.7836 - val_output_accuracy: 0.6875 - val_auxilliary_output_1_accuracy: 0.6683 - val_auxilliary_output_2_accuracy: 0.6731\n",
            "Epoch 91/100\n",
            "\n",
            "Epoch 00091: LearningRateScheduler reducing learning rate to 0.009216.\n",
            "15/15 [==============================] - 188s 13s/step - loss: 0.9512 - output_loss: 0.5829 - auxilliary_output_1_loss: 0.6252 - auxilliary_output_2_loss: 0.6026 - output_accuracy: 0.7597 - auxilliary_output_1_accuracy: 0.7381 - auxilliary_output_2_accuracy: 0.7565 - val_loss: 1.1892 - val_output_loss: 0.7272 - val_auxilliary_output_1_loss: 0.7750 - val_auxilliary_output_2_loss: 0.7651 - val_output_accuracy: 0.6971 - val_auxilliary_output_1_accuracy: 0.6779 - val_auxilliary_output_2_accuracy: 0.6779\n",
            "Epoch 92/100\n",
            "\n",
            "Epoch 00092: LearningRateScheduler reducing learning rate to 0.009216.\n",
            "15/15 [==============================] - 188s 13s/step - loss: 0.8968 - output_loss: 0.5465 - auxilliary_output_1_loss: 0.5964 - auxilliary_output_2_loss: 0.5714 - output_accuracy: 0.7805 - auxilliary_output_1_accuracy: 0.7421 - auxilliary_output_2_accuracy: 0.7603 - val_loss: 1.1910 - val_output_loss: 0.7457 - val_auxilliary_output_1_loss: 0.7489 - val_auxilliary_output_2_loss: 0.7354 - val_output_accuracy: 0.6779 - val_auxilliary_output_1_accuracy: 0.6827 - val_auxilliary_output_2_accuracy: 0.6538\n",
            "Epoch 93/100\n",
            "\n",
            "Epoch 00093: LearningRateScheduler reducing learning rate to 0.009216.\n",
            "15/15 [==============================] - 189s 13s/step - loss: 0.9952 - output_loss: 0.6198 - auxilliary_output_1_loss: 0.6246 - auxilliary_output_2_loss: 0.6266 - output_accuracy: 0.7505 - auxilliary_output_1_accuracy: 0.7451 - auxilliary_output_2_accuracy: 0.7524 - val_loss: 1.2672 - val_output_loss: 0.7659 - val_auxilliary_output_1_loss: 0.8250 - val_auxilliary_output_2_loss: 0.8459 - val_output_accuracy: 0.6875 - val_auxilliary_output_1_accuracy: 0.6250 - val_auxilliary_output_2_accuracy: 0.6298\n",
            "Epoch 94/100\n",
            "\n",
            "Epoch 00094: LearningRateScheduler reducing learning rate to 0.009216.\n",
            "15/15 [==============================] - 187s 12s/step - loss: 0.9363 - output_loss: 0.5677 - auxilliary_output_1_loss: 0.6249 - auxilliary_output_2_loss: 0.6037 - output_accuracy: 0.7686 - auxilliary_output_1_accuracy: 0.7349 - auxilliary_output_2_accuracy: 0.7469 - val_loss: 1.2294 - val_output_loss: 0.7524 - val_auxilliary_output_1_loss: 0.8069 - val_auxilliary_output_2_loss: 0.7831 - val_output_accuracy: 0.7019 - val_auxilliary_output_1_accuracy: 0.6971 - val_auxilliary_output_2_accuracy: 0.6827\n",
            "Epoch 95/100\n",
            "\n",
            "Epoch 00095: LearningRateScheduler reducing learning rate to 0.009216.\n",
            "15/15 [==============================] - 187s 12s/step - loss: 0.9396 - output_loss: 0.5720 - auxilliary_output_1_loss: 0.6263 - auxilliary_output_2_loss: 0.5989 - output_accuracy: 0.7777 - auxilliary_output_1_accuracy: 0.7365 - auxilliary_output_2_accuracy: 0.7548 - val_loss: 1.1897 - val_output_loss: 0.7387 - val_auxilliary_output_1_loss: 0.7520 - val_auxilliary_output_2_loss: 0.7514 - val_output_accuracy: 0.6923 - val_auxilliary_output_1_accuracy: 0.6875 - val_auxilliary_output_2_accuracy: 0.6827\n",
            "Epoch 96/100\n",
            "\n",
            "Epoch 00096: LearningRateScheduler reducing learning rate to 0.008847359999999999.\n",
            "15/15 [==============================] - 187s 12s/step - loss: 0.8187 - output_loss: 0.4934 - auxilliary_output_1_loss: 0.5593 - auxilliary_output_2_loss: 0.5253 - output_accuracy: 0.8202 - auxilliary_output_1_accuracy: 0.7716 - auxilliary_output_2_accuracy: 0.7931 - val_loss: 1.2914 - val_output_loss: 0.8317 - val_auxilliary_output_1_loss: 0.7862 - val_auxilliary_output_2_loss: 0.7460 - val_output_accuracy: 0.6923 - val_auxilliary_output_1_accuracy: 0.6635 - val_auxilliary_output_2_accuracy: 0.6923\n",
            "Epoch 97/100\n",
            "\n",
            "Epoch 00097: LearningRateScheduler reducing learning rate to 0.008847359999999999.\n",
            "15/15 [==============================] - 186s 12s/step - loss: 0.8733 - output_loss: 0.5350 - auxilliary_output_1_loss: 0.5619 - auxilliary_output_2_loss: 0.5659 - output_accuracy: 0.7784 - auxilliary_output_1_accuracy: 0.7606 - auxilliary_output_2_accuracy: 0.7712 - val_loss: 1.8236 - val_output_loss: 1.2315 - val_auxilliary_output_1_loss: 0.9689 - val_auxilliary_output_2_loss: 1.0049 - val_output_accuracy: 0.5481 - val_auxilliary_output_1_accuracy: 0.6058 - val_auxilliary_output_2_accuracy: 0.5721\n",
            "Epoch 98/100\n",
            "\n",
            "Epoch 00098: LearningRateScheduler reducing learning rate to 0.008847359999999999.\n",
            "15/15 [==============================] - 185s 12s/step - loss: 1.0237 - output_loss: 0.6430 - auxilliary_output_1_loss: 0.6318 - auxilliary_output_2_loss: 0.6374 - output_accuracy: 0.7350 - auxilliary_output_1_accuracy: 0.7335 - auxilliary_output_2_accuracy: 0.7308 - val_loss: 1.4289 - val_output_loss: 0.9071 - val_auxilliary_output_1_loss: 0.8381 - val_auxilliary_output_2_loss: 0.9011 - val_output_accuracy: 0.6683 - val_auxilliary_output_1_accuracy: 0.6587 - val_auxilliary_output_2_accuracy: 0.6394\n",
            "Epoch 99/100\n",
            "\n",
            "Epoch 00099: LearningRateScheduler reducing learning rate to 0.008847359999999999.\n",
            "15/15 [==============================] - 185s 12s/step - loss: 0.8241 - output_loss: 0.4980 - auxilliary_output_1_loss: 0.5637 - auxilliary_output_2_loss: 0.5234 - output_accuracy: 0.8051 - auxilliary_output_1_accuracy: 0.7600 - auxilliary_output_2_accuracy: 0.7955 - val_loss: 1.1868 - val_output_loss: 0.7446 - val_auxilliary_output_1_loss: 0.7295 - val_auxilliary_output_2_loss: 0.7444 - val_output_accuracy: 0.6875 - val_auxilliary_output_1_accuracy: 0.6779 - val_auxilliary_output_2_accuracy: 0.6731\n",
            "Epoch 100/100\n",
            "\n",
            "Epoch 00100: LearningRateScheduler reducing learning rate to 0.008847359999999999.\n",
            "15/15 [==============================] - 185s 12s/step - loss: 0.8082 - output_loss: 0.4864 - auxilliary_output_1_loss: 0.5532 - auxilliary_output_2_loss: 0.5194 - output_accuracy: 0.7983 - auxilliary_output_1_accuracy: 0.7738 - auxilliary_output_2_accuracy: 0.7814 - val_loss: 1.1707 - val_output_loss: 0.7273 - val_auxilliary_output_1_loss: 0.7462 - val_auxilliary_output_2_loss: 0.7315 - val_output_accuracy: 0.6875 - val_auxilliary_output_1_accuracy: 0.6635 - val_auxilliary_output_2_accuracy: 0.6635\n"
          ],
          "name": "stdout"
        }
      ]
    },
    {
      "cell_type": "markdown",
      "metadata": {
        "id": "uX_09LMOvcFv"
      },
      "source": [
        "Then evaluate the model on test set."
      ]
    },
    {
      "cell_type": "code",
      "metadata": {
        "colab": {
          "base_uri": "https://localhost:8080/"
        },
        "id": "yA475lNqg2F5",
        "outputId": "445fd6f1-9125-42d5-c26a-83b4f74c83e8"
      },
      "source": [
        "#run on test set\n",
        "model.evaluate(x_test, y_test)"
      ],
      "execution_count": null,
      "outputs": [
        {
          "output_type": "stream",
          "text": [
            "22/22 [==============================] - 14s 600ms/step - loss: 1.2234 - output_loss: 0.7634 - auxilliary_output_1_loss: 0.7686 - auxilliary_output_2_loss: 0.7649 - output_accuracy: 0.6974 - auxilliary_output_1_accuracy: 0.6513 - auxilliary_output_2_accuracy: 0.6772\n"
          ],
          "name": "stdout"
        },
        {
          "output_type": "execute_result",
          "data": {
            "text/plain": [
              "[1.2234407663345337,\n",
              " 0.7633762955665588,\n",
              " 0.768600583076477,\n",
              " 0.7649474740028381,\n",
              " 0.6974063515663147,\n",
              " 0.651296854019165,\n",
              " 0.6772334575653076]"
            ]
          },
          "metadata": {
            "tags": []
          },
          "execution_count": 16
        }
      ]
    },
    {
      "cell_type": "markdown",
      "metadata": {
        "id": "0tvb77yIvewf"
      },
      "source": [
        "We check to see if the model has finished training by looking at model's loss."
      ]
    },
    {
      "cell_type": "code",
      "metadata": {
        "colab": {
          "base_uri": "https://localhost:8080/",
          "height": 295
        },
        "id": "1CmvGrqfqfOK",
        "outputId": "de4afbd4-d3d5-4b48-f815-078d5982824d"
      },
      "source": [
        "#plot model loss\n",
        "plt.plot(history.history[\"loss\"])\n",
        "plt.plot(history.history[\"val_loss\"])\n",
        "plt.title(\"Model Loss\")\n",
        "plt.ylabel(\"Loss\")\n",
        "plt.xlabel(\"Epochs\")\n",
        "plt.legend([\"Train\", \"Val\"], loc=\"upper left\")\n",
        "plt.show()"
      ],
      "execution_count": null,
      "outputs": [
        {
          "output_type": "display_data",
          "data": {
            "image/png": "[encoded data removed]",
            "text/plain": [
              "<Figure size 432x288 with 1 Axes>"
            ]
          },
          "metadata": {
            "tags": [],
            "needs_background": "light"
          }
        }
      ]
    },
    {
      "cell_type": "markdown",
      "metadata": {
        "id": "lUA1cF3nviU1"
      },
      "source": [
        "Observe model's accuracy."
      ]
    },
    {
      "cell_type": "code",
      "metadata": {
        "colab": {
          "base_uri": "https://localhost:8080/",
          "height": 295
        },
        "id": "WXzDNoIvXsvZ",
        "outputId": "d2284d1e-c33d-4265-cece-32121054c5e3"
      },
      "source": [
        "#plot model accuracy\n",
        "plt.plot(history.history[\"output_accuracy\"])\n",
        "plt.plot(history.history[\"val_output_accuracy\"])\n",
        "plt.title(\"Model accuracy\")\n",
        "plt.ylabel(\"Accuracy\")\n",
        "plt.xlabel(\"Epochs\")\n",
        "plt.legend([\"Train\", \"Val\"], loc=\"upper left\")\n",
        "plt.show()"
      ],
      "execution_count": null,
      "outputs": [
        {
          "output_type": "display_data",
          "data": {
            "image/png": "[encoded data removed]",
            "text/plain": [
              "<Figure size 432x288 with 1 Axes>"
            ]
          },
          "metadata": {
            "tags": [],
            "needs_background": "light"
          }
        }
      ]
    },
    {
      "cell_type": "markdown",
      "metadata": {
        "id": "x_FxCR_RvlO1"
      },
      "source": [
        "Because this model trained for 5 hours, we want to make sure we don't lose it."
      ]
    },
    {
      "cell_type": "code",
      "metadata": {
        "colab": {
          "base_uri": "https://localhost:8080/"
        },
        "id": "PTE7iY3BAANf",
        "outputId": "d7134fb0-5774-4182-aa48-79ccd22fbe52"
      },
      "source": [
        "# Save the entire model as a SavedModel.\n",
        "!mkdir -p saved_model\n",
        "model.save('saved_model/my_model') "
      ],
      "execution_count": null,
      "outputs": [
        {
          "output_type": "stream",
          "text": [
            "INFO:tensorflow:Assets written to: saved_model/my_model/assets\n"
          ],
          "name": "stdout"
        }
      ]
    },
    {
      "cell_type": "markdown",
      "metadata": {
        "id": "nRdXnbEkk2xW"
      },
      "source": [
        "## References\n",
        "\n",
        "https://www.analyticsvidhya.com/blog/2018/10/understanding-inception-network-from-scratch/"
      ]
    }
  ]
}